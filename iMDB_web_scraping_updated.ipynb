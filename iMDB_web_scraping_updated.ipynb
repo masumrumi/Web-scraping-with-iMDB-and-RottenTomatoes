{
 "cells": [
  {
   "cell_type": "markdown",
   "metadata": {},
   "source": [
    "![](https://i.pinimg.com/originals/0f/57/41/0f5741c61305fa3489653c7650c94658.jpg)\n",
    "<a name=\"introduction\"></a>\n",
    "\n",
    "In this project, I am going to start learning how to do web scraping. I am planning to web scrape iMDB and Rotten Tomato to get info about each movie.  My aim is to collect as much data as possible. This will be a continuous project with the implementation of machine learning and NLP. We will start with machine learning section and try to predict the movie score based on all the info we collect from those two websites. Let's get started. \n",
    "\n",
    "\n",
    "# Objectives\n",
    "- [Introduction](#introduction)\n",
    "- [Import necessary modules](#modules)\n",
    "- [Imdb_webscraping_part#1](#imdb1)\n",
    "- [Imdb_webscraping_part#2](#imdb2)\n",
    "- [Rotten tomato webscraping](#Rotten tomato webscraping)\n",
    "- [Cleaning All datasets(This is the starting point of this project after collecting all the data)](#cleaning_data_sets)\n",
    "- [Visualization](#visualization)\n",
    "- [Feature Engineering](#feature_engineering)\n",
    "- [Train-test split](#train_test_split)\n",
    "- [Creating models](#creating_models)\n",
    "- [Result metrics](#result_metrics)\n",
    "- [Feature Importance](#feature_importance)\n",
    "- [ROC/AUC curve](#roc_auc_curve)\n",
    "- [Wrapping Up](#wrapping_up)\n",
    "- [Next](#next)\n",
    "\n",
    "\n",
    "#### Importing all the necessary modules\n",
    "<a name=\"#modules\"></a>\n",
    "\n",
    "We are start out by importing a bunch of libraries that will help us with the task.  "
   ]
  },
  {
   "cell_type": "code",
   "execution_count": 1,
   "metadata": {},
   "outputs": [],
   "source": [
    "## Importing necessary modules\n",
    "import csv  # # Working with CSV.\n",
    "import re  # # Regular Expression.\n",
    "import time  # # Time the code.\n",
    "\n",
    "import numpy as np  # # Helps to do most of the linear algebra work.\n",
    "import pandas as pd\n",
    "import requests  # # requests is used to do web scraping.\n",
    "from bs4 import BeautifulSoup  # # Library that printed html object nicely.\n",
    "\n",
    "pd.set_option('display.max_columns', 500) ## to see all the columns,\n",
    "pd.set_option('display.max_rows', 500) ## To see all the rows. \n",
    "\n",
    "import warnings ## importing warnings library. \n",
    "warnings.filterwarnings('ignore') ## Ignore warning"
   ]
  },
  {
   "cell_type": "markdown",
   "metadata": {},
   "source": [
    "# Collecting Data\n",
    "\n",
    "#### Imdb webscraping part #1\n",
    "<a name=\"imdb1\"></a>\n",
    "\n",
    "\n"
   ]
  },
  {
   "cell_type": "code",
   "execution_count": 2,
   "metadata": {},
   "outputs": [],
   "source": [
    "## Some functions to extract data\n",
    "def metascore_getter_class(css_class):\n",
    "    return (css_class == \"metascore mixed\" \n",
    "            or css_class == \"metascore favorable\" \n",
    "            or css_class==\"metascore unfavorable\")\n",
    "\n",
    "    "
   ]
  },
  {
   "cell_type": "code",
   "execution_count": 3,
   "metadata": {},
   "outputs": [
    {
     "name": "stdout",
     "output_type": "stream",
     "text": [
      "CPU times: user 15.6 s, sys: 194 ms, total: 15.8 s\n",
      "Wall time: 1min 17s\n"
     ]
    }
   ],
   "source": [
    "%%time\n",
    "## Looping through each page of the IMDB website which consists of 50\n",
    "##movies in each page, picking movies only with more than 1000 votes \n",
    "#and a rating higher than 9 and lower than 5\n",
    "\n",
    "\n",
    "## Whenever we use \"nested for loops\" it exponentially increase our executing time. \n",
    "## I wrote these codes when I started out learning python and it was an amazing time. \n",
    "## Hopefully I have come a long way from then, but these codes haven't. However, these codes \n",
    "## gets the needed job done, with the expense of resources and time. I am hoping to relapce these codes \n",
    "## very soon. Until then. Enjoy!! \n",
    "movies = {}\n",
    "## a is getting 1500 movies\n",
    "for a in range(1, 1500, 50): \n",
    "    ## b is doing 2 iterations to switch r value\n",
    "    for b in range(2): \n",
    "        \n",
    "        # r with rating above 8\n",
    "        r = requests.get(\"https://www.imdb.com/search/title/?title_type=feature,\\\n",
    "        tv_movie,documentary,short&user_rating=8.0,&num_votes=1000,&start=\"+str(a)+\"&ref_=adv_nxt\")\n",
    "       \n",
    "        ## altering the value of r, in order to scrape movies with rating lower than 5.\n",
    "        if b == 1:\n",
    "         \n",
    "            # r with rating below 5\n",
    "            r = requests.get(\"https://www.imdb.com/search/title/?title_type=feature,\\\n",
    "            tv_movie,documentary,short&user_rating=,5.0&num_votes=1000,&start=\"+str(a)+\"&ref_=adv_nxt\")\n",
    "       \n",
    "        ## use BeautifulSoup based on either r\n",
    "        soup = BeautifulSoup(r.content, \"lxml\")\n",
    "        \n",
    "        for i in soup.findAll(class_='lister-item-content'):\n",
    "            \n",
    "            # Getting title_id\n",
    "            movie_id = re.findall(r'tt.+\\d', str(i.find(\"a\")))[0].split(\"/\")[0]\n",
    "            \n",
    "            # Getting title\n",
    "            title = i.find('a').text.strip()\n",
    "            \n",
    "            \n",
    "            # Gerring genre\n",
    "            try:\n",
    "                genre = i.find('span', class_ = \"genre\").text.strip()\n",
    "            except:\n",
    "                genre = None\n",
    "            \n",
    "            # Getting runtime\n",
    "            try:\n",
    "                runtime = re.findall(r'\\d+', i.find('span', class_ = \"runtime\").text)[0]\n",
    "            except:\n",
    "                runtime = None\n",
    "            \n",
    "            # Getting certificate    \n",
    "            try:\n",
    "                certificate = i.find(\"span\", class_ =\"certificate\").text\n",
    "            except:\n",
    "                certificate = None\n",
    "            \n",
    "            # Getting imdb_rating\n",
    "            imdb_rating = float(i.find(\"strong\").text)\n",
    "            \n",
    "            # Getting year\n",
    "            year = i.find(\"span\", class_=\"lister-item-year text-muted unbold\").text\n",
    "            \n",
    "            # Getting votes\n",
    "            votes = (i.find(\"span\", attrs={\"name\":\"nv\"}).text).replace(\",\",\"\")\n",
    "            \n",
    "            # Getting gross\n",
    "            try:\n",
    "                gross = re.findall(r'\\d.+\\d', i.find(\"span\", attrs={\"name\":\"nv\"}\n",
    "                                                    ).find_next_sibling(\"span\", attrs={\"name\":\"nv\"}).get_text())[0]\n",
    "            except:\n",
    "                gross = None\n",
    "            \n",
    "            ## Getting director\n",
    "            try:\n",
    "                director = i.find_all('p', class_=\"\")[0].a.text.strip()\n",
    "            except:\n",
    "                director = None\n",
    "                \n",
    "                        \n",
    "            ## Getting actors\n",
    "            try:\n",
    "                actors = i.find_all(\"p\", class_=\"\")[0].find_all('a')[1:]\n",
    "                actors = [string_value.text.strip() for string_value in actors]\n",
    "            except:\n",
    "                actors = None\n",
    "            \n",
    "            ## getting summary\n",
    "            try:\n",
    "                summary = i.find_all('p', class_='text-muted')[1].text.strip()\n",
    "            except:\n",
    "                summary = None\n",
    "            \n",
    "            ## Getting metascore\n",
    "            try:\n",
    "                metascore = i.find_all(\"span\", class_= metascore_getter_class)[0].text.strip()\n",
    "            except:\n",
    "                metascore = None\n",
    "                \n",
    "            movies[movie_id] = (title, runtime, genre, certificate,imdb_rating,\n",
    "                                gross,year,votes,director, actors, metascore, summary)\n"
   ]
  },
  {
   "cell_type": "code",
   "execution_count": 4,
   "metadata": {},
   "outputs": [],
   "source": [
    "df = pd.DataFrame.from_dict(movies).T.reset_index()\n",
    "header =[\"movie_id\", \"title\", \"runtime\", \"genre\", \"certificate\", \"imdb_rating\", \n",
    "         \"gross\", \"year\", \"votes\", \"director\",\"actors\", \"metascore\", 'summary'] \n",
    "df.columns = header"
   ]
  },
  {
   "cell_type": "markdown",
   "metadata": {},
   "source": [
    "<a name=\"imdb2\"></a>\n",
    "#### Imdb webscarping part #2"
   ]
  },
  {
   "cell_type": "code",
   "execution_count": 5,
   "metadata": {},
   "outputs": [],
   "source": [
    "## Some functions to extract data\n",
    "def metascore_getter_class_2(css_class):\n",
    "    return (css_class == \"metacriticScore score_favorable titleReviewBarSubItem\" \n",
    "            or css_class == \"metacriticScore score_mixed titleReviewBarSubItem\" \n",
    "            or css_class==\"metacriticScore score_unfavorable titleReviewBarSubItem\")\n"
   ]
  },
  {
   "cell_type": "code",
   "execution_count": 6,
   "metadata": {
    "scrolled": true
   },
   "outputs": [],
   "source": [
    "%%time\n",
    "\n",
    "import sys\n",
    "sys.stdout = open('/dev/stdout', 'w') ## Prints out in the terminal as code executes\n",
    "\n",
    "movies2 = {}\n",
    "for movie_id in movies.keys():\n",
    "    \n",
    "    ## this is just for me to print out \"w\" in the termin and make sure that My code is working\n",
    "    sys.stdout.write(movie_id + '\\n')\n",
    "    \n",
    "    r = requests.get(\"http://www.imdb.com/title/\"+str(movie_id)+\"/?ref_=nv_sr_1\")\n",
    "    soup = BeautifulSoup(r.content, \"lxml\")\n",
    "    \n",
    "    # Getting User_review_no\n",
    "    try:\n",
    "        user_review = soup.find(class_=\"titleReviewBarItem titleReviewbarItemBorder\"\n",
    "                               ).find(\"a\", href=re.compile(\"reviews\")).text\n",
    "    except:\n",
    "        user_review = None\n",
    "        \n",
    "    # Getting Critic_no\n",
    "    try:\n",
    "        critic_review = soup.find(class_=\"titleReviewBarItem titleReviewbarItemBorder\"\n",
    "                                 ).find(\"a\", href=re.compile(\"externalreviews\")).text\n",
    "    except:\n",
    "        critic_review = None\n",
    "        \n",
    "\n",
    "    # Getting Writer\n",
    "    try:\n",
    "        writer = soup.find_all(class_=\"credit_summary_item\")[1].find_all(\"a\", href=re.compile('name'))\n",
    "        writer = [string_value.text.strip() for string_value in writer]\n",
    "    except:\n",
    "        writer = None\n",
    "\n",
    "    \n",
    "    # Getting Language\n",
    "    language = \"\"\n",
    "    try:\n",
    "        for i in soup.find_all(\"h4\", class_ = 'inline'):\n",
    "            if i.text.strip() == \"Language:\":\n",
    "                language = i.find_next().text\n",
    "                #language.append(i.find_next().text)\n",
    "    except:\n",
    "        language = None\n",
    "        \n",
    "        \n",
    "    # Getting Country\n",
    "    country = \"\"\n",
    "    try:\n",
    "        for i in soup.find_all('h4',class_ = \"inline\"):\n",
    "            if i.text.strip() == \"Country:\":\n",
    "                country = i.parent\n",
    "        country = [temp.text for temp in country.find_all(\"a\")]\n",
    "    except:\n",
    "        country = None\n",
    "            \n",
    "    # Getting Budget\n",
    "    budget = \"\"\n",
    "    \n",
    "    try:\n",
    "        for i in soup.find_all(\"h4\", class_ = \"inline\"):\n",
    "            if i.text.strip() == \"Budget:\":\n",
    "                budget = (i.next_sibling.strip()).replace(\",\",\"\")\n",
    "               # budget.append((i.next_sibling.strip()).replace(\",\",\"\"))\n",
    "    except:\n",
    "        budget = None\n",
    "            \n",
    "    # Getting Gross\n",
    "    gross_1 = \"\"\n",
    "    try:\n",
    "        for i in soup.find_all(\"h4\", class_ = \"inline\"):\n",
    "            if i.text.strip() == \"Gross USA:\":    \n",
    "                gross_1 = (i.next_sibling.strip()).replace(\",\",\"\")\n",
    "                #gross_1.append((i.next_sibling.strip()).replace(\",\",\"\"))\n",
    "    except:\n",
    "        gross_1 = None\n",
    "        \n",
    "    # Getting Opening Weekend\n",
    "    opening_week = \"\"\n",
    "    try:\n",
    "        for i in soup.find_all(\"h4\", class_ = \"inline\"):\n",
    "            if i.text.strip() == \"Opening Weekend USA:\":\n",
    "                opening_week = (i.next_sibling.strip()).replace(\",\",\"\")\n",
    "                #opening_week.append((i.next_sibling.strip()).replace(\",\",\"\"))\n",
    "    except:\n",
    "        opening_week = None\n",
    "\n",
    "    \n",
    "    \n",
    "    # Getting Oscar, Oscar_nomination, Other_awards, Other_nomminations\n",
    "    # getting oscar\n",
    "    for i in soup.find_all(\"span\", class_=\"awards-blurb\"):\n",
    "        if \"Won\" in i.text and (\"Oscar.\" in i.text or \"Oscars.\" in i.text):\n",
    "            oscar_win = re.findall(r'\\d+', i.text.strip(\"\"))\n",
    "            break\n",
    "        else:\n",
    "            oscar_win = None\n",
    "\n",
    "        \n",
    "    # find nominations for oscar\n",
    "    \n",
    "    for i in soup.find_all(\"span\", class_=\"awards-blurb\"):\n",
    "        if \"Nominated\" in i.text and (\"Oscar.\" in i.text or \"Oscars.\" in i.text):\n",
    "            oscar_nom = re.findall(r'\\d+', i.text.strip(\"\"))\n",
    "            break\n",
    "        else:\n",
    "            oscar_nom = None\n",
    "            \n",
    " \n",
    "    \n",
    "    # Getting other wins\n",
    "    other_win = \"\"\n",
    "    try:\n",
    "        for i in soup.find_all(\"span\", class_= \"awards-blurb\"):\n",
    "            #print i.text\n",
    "            if (\"wins\" in i.text or \"win\" in i.text) and (\"nominations\" in i.text \n",
    "                                                          or \"nomination.\" in i.text):\n",
    "                other_win = re.findall(r'\\d+', i.text.strip(\"\"))[0]\n",
    "            elif (\"wins\" in i.text or \"win\" in i.text) and (\"nominations\" not in i.text \n",
    "                                                            or \"nomination.\" not in i.text):\n",
    "                other_win = re.findall(r'\\d+', i.text.strip(\"\"))[0]\n",
    "            elif (\"wins\" not in i.text or \"win\" not in i.text) and (\"nominations\" in i.text \n",
    "                                                                    or \"nomination.\" in i.text):\n",
    "                other_win = None\n",
    "    except:\n",
    "        other_win = None\n",
    "\n",
    "        \n",
    "        \n",
    "    # Getting other nominations\n",
    "    other_nom = \"\"\n",
    "    try:\n",
    "        for i in soup.find_all(\"span\", class_ = \"awards-blurb\"):\n",
    "            #print i.text\n",
    "            if (\"wins\" in i.text or \"win\" in i.text) and (\"nominations\" in i.text \n",
    "                                                          or \"nomination.\" in i.text):\n",
    "                #other_nom.append(re.findall(r'\\d+', i.text.strip(\"\"))[1])\n",
    "                other_nom = re.findall(r'\\d+', i.text.strip(\"\"))[1]\n",
    "            elif (\"wins\" in i.text or \"win\" in i.text) and (\"nominations\" not in i.text \n",
    "                                                            or \"nomination.\" not in i.text):\n",
    "                other_nom = None\n",
    "            elif (\"wins\" not in i.text or \"win\" not in i.text) and (\"nominations\" in i.text \n",
    "                                                                    or \"nomination.\" in i.text):\n",
    "                other_nom = re.findall(r'\\d+', i.text.strip(\"\"))[0]\n",
    "    except:\n",
    "        other_nom = None\n",
    "        \n",
    "        ## getting metascore again\n",
    "    meta_score = 0\n",
    "    try:\n",
    "        meta_score = soup.find_all(class_ = metascore_getter_class_2)[0].text.strip()\n",
    "    except:\n",
    "        meta_score = None\n",
    "\n",
    "    \n",
    "    movies2[movie_id] = (user_review,critic_review,writer,language,country,\n",
    "                         budget,gross_1,opening_week,oscar_win,oscar_nom,other_win,other_nom, meta_score)"
   ]
  },
  {
   "cell_type": "code",
   "execution_count": 7,
   "metadata": {},
   "outputs": [],
   "source": [
    "header = [\"movie_id\",\"user_review\", \"critic_review\", \"writer\", \"language\", \n",
    "           \"country\", \"budget\", \"gross_1\", \"opening_week\", \"oscar_win\", \n",
    "           \"oscar_nom\", \"other_win\", \"other_nom\", \"meta_score\"]\n",
    "\n",
    "df2 = pd.DataFrame.from_dict(movies2).T.reset_index()\n",
    "df2.columns = header"
   ]
  },
  {
   "cell_type": "code",
   "execution_count": 8,
   "metadata": {},
   "outputs": [],
   "source": [
    "## The code above ran in AWS and once the scrapig was completed, the scraped data stored as a csv file in EC2. \n",
    "df2.to_csv('input/imdb_2.csv', encoding=\"utf-8\")"
   ]
  },
  {
   "cell_type": "markdown",
   "metadata": {},
   "source": [
    "#### Rotten_tomato webscraping\n",
    "<a name=\"Rotten tomato webscraping\"></a>"
   ]
  },
  {
   "cell_type": "code",
   "execution_count": 9,
   "metadata": {
    "scrolled": true
   },
   "outputs": [],
   "source": [
    "# %%time\n",
    "# import sys\n",
    "# df = pd.read_csv('input/imdb_1.csv')\n",
    "# ## fixing year\n",
    "# df.year = df.year.apply(lambda x: int(re.findall(\"\\d{4}\",x)[0]))\n",
    "\n",
    "# df.title = df.title.apply(lambda x:x.replace(\" \", \"_\"))\n",
    "# df.title = df.title.apply(lambda x:x.replace(\".\", \"\"))\n",
    "# df.title = df.title.apply(lambda x:x.replace(\":\", \"\"))\n",
    "# df.title = df.title.apply(lambda x:x.replace(\"-\", \"\"))\n",
    "# df.title = df.title.apply(lambda x:x.replace(\",\", \"\"))\n",
    "# df.title = df.title.apply(lambda x:x.replace(\"'\", \"\"))\n",
    "# df.title = df.title.apply(lambda x:x.replace(\"__\", \"_\"))\n",
    "\n",
    "# ## changdf.es that name of the spoted movies to fit the url. \n",
    "# df.title = df.title.apply(lambda x:x.replace(\"Joker\", \"joker_2019\"))\n",
    "# df.title = df.title.apply(lambda x:x.replace(\"1917\", \"1917_2019\"))\n",
    "# df.title = df.title.apply(lambda x:x.replace(\"Parasite\", \"parasite_2019\"))\n",
    "# df.title = df.title.apply(lambda x:x.replace(\"The_Wolf_of_Wall_Street\", \"the_wolf_of_wall_street_2013\"))\n",
    "# df.title = df.title.apply(lambda x:x.replace(\"The_Shining\", \"shining\"))\n",
    "# df.title = df.title.apply(lambda x:x.replace(\"Shutter_Island\", \"1198124_shutter_island\"))\n",
    "# df.title = df.title.apply(lambda x:x.replace(\"The_Prestige\", \"prestige\"))\n",
    "# df.title = df.title.apply(lambda x:x.replace(\"Prisoners\", \"seven\"))\n",
    "# df.title = df.title.apply(lambda x:x.replace(\"Se7en\", \"seven\"))\n",
    "# df.title = df.title.apply(lambda x:x.replace(\"Star_Wars_Episode_IV_A_New_Hope\", \"star_wars\"))\n",
    "# df.title = df.title.apply(lambda x:x.replace(\"The_Last_Airbender\", \"last_airbender\"))\n",
    "# df.title = df.title.apply(lambda x:x.replace(\"Casablanca\", \"1003707_casablanca\"))\n",
    "# df.title = df.title.apply(lambda x:x.replace(\"The_Usual_Suspects\", \"usual_Suspects\"))\n",
    "# df.title = df.title.apply(lambda x:x.replace(\"The_Godfather_Part_II\", \"godfather_part_ii\"))\n",
    "# df.title = df.title.apply(lambda x:x.replace(\"Fantasy_Island\", \"fantasy_island_2020\"))\n",
    "# df.title = df.title.apply(lambda x:x.replace(\"survive_the_night\", \"survive_the_night_2020\"))\n",
    "# df.title = df.title.apply(lambda x:x.replace(\"The_room\", \"the_room_1998\"))\n",
    "# df.title = df.title.apply(lambda x:x.replace(\"John_Henry\", \"john_henry_2020\"))\n",
    "# df.title = df.title.apply(lambda x:x.replace(\"Batman_&_Robin\", \"1077027_batman_and_robin\"))\n",
    "# df.title = df.title.apply(lambda x:x.replace(\"First_Kill\", \"First_Kill_2017\"))\n",
    "# df.title = df.title.apply(lambda x:x.replace(\"The_Adventures_of_Sharkboy_and_Lavagirl_3D\", \"the_adventures_of_sharkboy_and_lavagirl_in_3d\"))\n",
    "# df.title = df.title.apply(lambda x:x.replace(\"Dragonball_Evolution\", \"dragonball\"))\n",
    "# df.title = df.title.apply(lambda x:x.replace(\"The_Happening\", \"10007985_happening\"))\n",
    "# df.title = df.title.apply(lambda x:x.replace(\"Zapped!\", \"zapped\"))\n",
    "# df.title = df.title.apply(lambda x:x.replace(\"Léon_The_Professional\", \"leon_the_professional\"))\n",
    "# df.title = df.title.apply(lambda x:x.replace(\"SpiderMan_Into_the_SpiderVerse\", \"spider_man_into_the_spider_verse\"))\n",
    "# df.title = df.title.apply(lambda x:x.replace(\"The_Avengers\", \"marvels_the_avengers\"))\n",
    "# df.title = df.title.apply(lambda x:x.replace(\"Braveheart\", \"1065684_braveheart\"))\n",
    "# df.title = df.title.apply(lambda x:x.replace(\"Star_Wars_Episode_V_The_Empire_Strikes_Back\", \"empire_strikes_back\"))\n",
    "# df.title = df.title.apply(lambda x: x.lower())\n",
    "# df.title = df.title.apply(lambda x:x.replace(\"the_best_years_of_our_lives\", \"best_years_of_our_lives\"))\n",
    "# df.title = df.title.apply(lambda x:x.replace(\"come_and_see\", \"1036052_come_and_see\"))\n",
    "# df.title = df.title.apply(lambda x:x.replace(\"a_clockwork_orange\", \"clockwork_orange\"))\n",
    "# df.title = df.title.apply(lambda x:x.replace(\"logan\", \"logan_2017\"))\n",
    "# df.title = df.title.apply(lambda x:x.replace(\"12_angry_men\", \"1000013_12_angry_men\"))\n",
    "# df.title = df.title.apply(lambda x:x.replace(\"the_human_centipede_(first_sequence)\", \"human_centipede\"))\n",
    "# df.title = df.title.apply(lambda x:x.replace(\"the_cat_in_the_hat\", \"cat_in_the_hat\"))\n",
    "# df.title = df.title.apply(lambda x:x.replace(\"holmes_&_watson\", \"holmes_and_watson_2018\"))\n",
    "# df.title = df.title.apply(lambda x:x.replace(\"death_note\", \"death_note_2017\"))\n",
    "# df.title = df.title.apply(lambda x:x.replace(\"cool_world\", \"1040378_cool_world\"))\n",
    "# df.title = df.title.apply(lambda x:x.replace(\"jaws_3d\", \"jaws_3\"))\n",
    "# df.title = df.title.apply(lambda x:x.replace(\"the_three_stooges\", \"1205530_three_stooges\"))\n",
    "# df.title = df.title.apply(lambda x:x.replace(\"kim_possible\", \"kim_possible_2019\"))\n",
    "# df.title = df.title.apply(lambda x:x.replace(\"the_island_of_dr_moreau\", \"1072156_island_of_dr_moreau\"))\n",
    "# df.title = df.title.apply(lambda x:x.replace(\"the_unborn\", \"10010150_unborn\"))\n",
    "# df.title = df.title.apply(lambda x:x.replace(\"aliens\", \"1000617_aliens\"))\n",
    "# df.title = df.title.apply(lambda x:x.replace(\"the_sixth_sense\", \"sixth_sense\"))\n",
    "# df.title = df.title.apply(lambda x:x.replace(\"spotlight\", \"spotlight_2015\"))\n",
    "# df.title = df.title.apply(lambda x:x.replace(\"life_is_beautiful\", \"1084398_life_is_beautiful\"))\n",
    "# df.title = df.title.apply(lambda x:x.replace(\"your_name\", \"your_name_2017\"))\n",
    "# df.title = df.title.apply(lambda x:x.replace(\"the_truman_show\", \"truman_show\"))\n",
    "# df.title = df.title.apply(lambda x:x.replace(\"the_thing\", \"1021244_thing\"))\n",
    "# df.title = df.title.apply(lambda x:x.replace(\"capharnaüm\", \"capernaum\"))\n",
    "# df.title = df.title.apply(lambda x:x.replace(\"the_wizard_of_oz\", \"the_wizard_of_oz_1939\"))\n",
    "# df.title = df.title.apply(lambda x:x.replace(\"zeroville\", \"zeroville_2019\"))\n",
    "# df.title = df.title.apply(lambda x:x.replace(\"aliens_vs_predator_requiem\", \"avp2\"))\n",
    "# df.title = df.title.apply(lambda x:x.replace(\"cell\", \"cell_2016\"))\n",
    "# df.title = df.title.apply(lambda x:x.replace(\"the_haunting\", \"1090789_haunting\"))\n",
    "# df.title = df.title.apply(lambda x:x.replace(\"megan_is_missing\", \"megan_is_missing_2011\"))\n",
    "# df.title = df.title.apply(lambda x:x.replace(\"the_dinner\", \"the_dinner_2017\"))\n",
    "# df.title = df.title.apply(lambda x:x.replace(\"high_school_musical_3\", \"1194524_high_school_musical_3_senior_year\"))\n",
    "# df.title = df.title.apply(lambda x:x.replace(\"the_saint\", \"the_saint_2017\"))\n",
    "# df.title = df.title.apply(lambda x:x.replace(\"the_human_centipede_iii_(final_sequence)\", \"the_human_centipede_iii\"))\n",
    "# df.title = df.title.apply(lambda x:x.replace(\"the_human_centipede_ii_(full_sequence)\", \"the_human_centipede_ii\"))\n",
    "# df.title = df.title.apply(lambda x:x.replace(\"jack_and_jill\", \"jack_and_jill_2011\"))\n",
    "# df.title = df.title.apply(lambda x:x.replace(\"oh_ramona!\", \"oh_ramona\"))\n",
    "# df.title = df.title.apply(lambda x:x.replace(\"princess_mononoke\", \"princess_mononoke_1999\"))\n",
    "# df.title = df.title.apply(lambda x:x.replace(\"warrior\", \"1212910_warrior\"))\n",
    "# df.title = df.title.apply(lambda x:x.replace(\"a_streetcar_named_desire\", \"1020333_streetcar_named_desire\"))\n",
    "\n",
    "# df.title = df.title.apply(lambda x: x.lower())\n",
    "# movies3 = {}\n",
    "# sys.stdout = open('/dev/stdout', 'w')\n",
    "\n",
    "# for movie, year in zip(df[\"title\"], df[\"year\"]):\n",
    "    \n",
    "#     r = requests.get(\"https://www.rottentomatoes.com/m/\"+str(movie))\n",
    "#     soup = BeautifulSoup(r.content, \"lxml\")\n",
    "    \n",
    "#     if r.status_code != 200:\n",
    "#         movie = str(movie)+\"_\"+str(year)\n",
    "#         r = requests.get(\"https://www.rottentomatoes.com/m/\"+movie)\n",
    "    \n",
    "#     #soup.find('section', class_=\"mop-ratings-wrap__row js-scoreboard-container\")\n",
    "#     ## everything is within the section above. \n",
    "    \n",
    "#     # Getting tomato meter score.\n",
    "#     tomatometer = 0\n",
    "#     try:\n",
    "#         tomatometer = soup.find_all(\"span\", class_=\"mop-ratings-wrap__percentage\")[0].text.strip()\n",
    "#     except:\n",
    "#         tomatometer = None\n",
    "        \n",
    "#     # getting audience score  \n",
    "#     audience_score = 0\n",
    "#     try:\n",
    "#         audience_score = soup.find_all(\"span\", class_=\"mop-ratings-wrap__percentage\")[1].text.strip()\n",
    "#     except:\n",
    "#         audience_score = None\n",
    "        \n",
    "#     ## getting total count\n",
    "#     total_count = 0\n",
    "#     try:\n",
    "#         total_count = soup.find_all(\"small\", class_=\"mop-ratings-wrap__text--small\")[0].text.strip()\n",
    "#     except:\n",
    "#         total_count = None\n",
    "        \n",
    "        \n",
    "#     # getting verified ratings\n",
    "#     verified_ratings = 0\n",
    "#     try:\n",
    "#         verified_ratings = soup.find_all(\n",
    "#             \"strong\", class_=\"mop-ratings-wrap__text--small\")[1].text.strip().split(\":\")[1].strip()\n",
    "#     except:\n",
    "#         verified_ratings = None\n",
    "        \n",
    "#     movies3[movie] = (tomatometer, audience_score, total_count, verified_ratings)\n",
    "    \n",
    "#     try:\n",
    "#         sys.stdout.write(tomatometer + \" \")\n",
    "#         sys.stdout.write(audience_score + \" \" )\n",
    "#         sys.stdout.write(total_count + \" \")\n",
    "#         sys.stdout.write(verified_ratings + \" \")\n",
    "#         sys.stdout.write(movie + '\\n')\n",
    "#     except:\n",
    "#         sys.stdout.write(movie + '\\n')"
   ]
  },
  {
   "cell_type": "code",
   "execution_count": 10,
   "metadata": {},
   "outputs": [],
   "source": [
    "\n",
    "# header3 = [\"rt_score\", \"rt_avg_rating\", \"rt_audience_score\", \"rt_user_rating\", \"rt_avg_aud_rating\", \"rt_fresh\", \"rt_rotten\"]\n",
    "\n",
    "# df3.columns = header3\n",
    "\n",
    "# ## The code above ran in AWS and once the scrapig was completed, the scraped data stored as a csv file in EC2. \n",
    "# df3.to_csv('rt.csv', encoding=\"utf-8\")\n",
    "\n",
    "# header = [\"metascores\"]\n",
    "\n",
    "# df_mt.to_csv(\"input/meta.csv\", encoding=\"utf-8\")"
   ]
  },
  {
   "cell_type": "markdown",
   "metadata": {},
   "source": [
    "# Cleaning all the datasets\n",
    "<a name =\"cleaning_data_sets\"></a>"
   ]
  },
  {
   "cell_type": "code",
   "execution_count": 11,
   "metadata": {},
   "outputs": [],
   "source": [
    "## This can be the socend part of this project, from here on, I dont have to worry web scraping and all \n",
    "## the scraped data was saved in a csv file and imported fresh with the following codes\n",
    "import pandas as pd\n",
    "import requests\n",
    "import numpy as np\n",
    "import re\n",
    "import csv\n",
    "from bs4 import BeautifulSoup\n",
    "from sklearn.metrics import roc_curve, auc, precision_recall_curve\n",
    "\n",
    "\n",
    "pd.set_option('display.max_columns', 500) ## to see all the columns,\n",
    "pd.set_option('display.max_rows', 500) ## To see all the rows. "
   ]
  },
  {
   "cell_type": "code",
   "execution_count": 12,
   "metadata": {},
   "outputs": [],
   "source": [
    "## getting the scraped csv files. \n",
    "df1 = pd.read_csv('input/imdb_1.csv')\n",
    "df2 = pd.read_csv('input/imdb_2.csv')"
   ]
  },
  {
   "cell_type": "code",
   "execution_count": 13,
   "metadata": {},
   "outputs": [],
   "source": [
    "## some functions to help us with the cleanning. \n",
    "def cleaner(df, function):\n",
    "    df.loc[:, function] = df.loc[:, function].apply(lambda x: x.replace(\"[\", \"\").replace(\"]\", \"\").replace(\"'\", \"\"))\n",
    "    return df.loc[:, function]\n",
    "\n",
    "def unique_values(df, feature):\n",
    "    unique_feature = []\n",
    "    for i in df.loc[:, feature]:\n",
    "        a = i.split(\",\")\n",
    "        for b in a:\n",
    "            if b.strip() not in unique_feature:\n",
    "                unique_feature.append(b.strip())\n",
    "    return unique_feature\n",
    "\n",
    "\n",
    "\n",
    "def custom_encoder(df, feature):\n",
    "    unique_feature = []\n",
    "    for i in df.loc[:, feature]:\n",
    "        a = i.split(\",\")\n",
    "        for b in a:\n",
    "            if b.strip() not in unique_feature:\n",
    "                unique_feature.append(b.strip())\n",
    "    cleaned_feature = []\n",
    "    for i in df.loc[:,feature]:\n",
    "        a = i.split(\",\")\n",
    "        c =[]\n",
    "        for b in a:\n",
    "            c.append(b.strip())\n",
    "        cleaned_feature.append(c)\n",
    "    for i in unique_feature:\n",
    "        df[i] = [1 if i in x else 0 for x in cleaned_feature]\n",
    "    df.drop(columns=[feature], inplace = True)\n",
    "    return df"
   ]
  },
  {
   "cell_type": "code",
   "execution_count": 14,
   "metadata": {},
   "outputs": [],
   "source": [
    "#Dropping the first columns of each datasets\n",
    "df1.drop(df1.columns[0], axis=1, inplace=True)\n",
    "df2.drop(df2.columns[0], axis=1, inplace=True)\n",
    "\n",
    "## combining the two dataframes on movie_id\n",
    "df = df1.merge(df2, on = 'movie_id')\n",
    "\n",
    "## dropping redundant columns\n",
    "df.drop(columns=['gross', 'metascore'], inplace=True)\n",
    "\n",
    "df = df.replace('N/A',np.nan)\n",
    "\n",
    "df.rename(columns={'gross_1':'gross'}, inplace=True)\n",
    "# Dropping duplicates \n",
    "df.drop_duplicates(inplace = True)"
   ]
  },
  {
   "cell_type": "code",
   "execution_count": 15,
   "metadata": {},
   "outputs": [
    {
     "data": {
      "text/html": [
       "<div>\n",
       "<style scoped>\n",
       "    .dataframe tbody tr th:only-of-type {\n",
       "        vertical-align: middle;\n",
       "    }\n",
       "\n",
       "    .dataframe tbody tr th {\n",
       "        vertical-align: top;\n",
       "    }\n",
       "\n",
       "    .dataframe thead th {\n",
       "        text-align: right;\n",
       "    }\n",
       "</style>\n",
       "<table border=\"1\" class=\"dataframe\">\n",
       "  <thead>\n",
       "    <tr style=\"text-align: right;\">\n",
       "      <th></th>\n",
       "      <th>movie_id</th>\n",
       "      <th>title</th>\n",
       "      <th>runtime</th>\n",
       "      <th>genre</th>\n",
       "      <th>certificate</th>\n",
       "      <th>imdb_rating</th>\n",
       "      <th>year</th>\n",
       "      <th>votes</th>\n",
       "      <th>director</th>\n",
       "      <th>actors</th>\n",
       "      <th>summary</th>\n",
       "      <th>user_review</th>\n",
       "      <th>critic_review</th>\n",
       "      <th>writer</th>\n",
       "      <th>language</th>\n",
       "      <th>country</th>\n",
       "      <th>budget</th>\n",
       "      <th>gross</th>\n",
       "      <th>opening_week</th>\n",
       "      <th>oscar_win</th>\n",
       "      <th>oscar_nom</th>\n",
       "      <th>other_win</th>\n",
       "      <th>other_nom</th>\n",
       "      <th>meta_score</th>\n",
       "    </tr>\n",
       "  </thead>\n",
       "  <tbody>\n",
       "    <tr>\n",
       "      <th>0</th>\n",
       "      <td>tt7286456</td>\n",
       "      <td>Joker</td>\n",
       "      <td>122.0</td>\n",
       "      <td>Crime, Drama, Thriller</td>\n",
       "      <td>R</td>\n",
       "      <td>8.5</td>\n",
       "      <td>(2019)</td>\n",
       "      <td>804730</td>\n",
       "      <td>Todd Phillips</td>\n",
       "      <td>['Joaquin Phoenix', 'Robert De Niro', 'Zazie B...</td>\n",
       "      <td>In Gotham City, mentally troubled comedian Art...</td>\n",
       "      <td>10,188 user</td>\n",
       "      <td>682 critic</td>\n",
       "      <td>['Todd Phillips', 'Scott Silver']</td>\n",
       "      <td>English</td>\n",
       "      <td>['USA', 'Canada']</td>\n",
       "      <td>$55000000</td>\n",
       "      <td>$335451311</td>\n",
       "      <td>$96202337</td>\n",
       "      <td>['2']</td>\n",
       "      <td>NaN</td>\n",
       "      <td>92.0</td>\n",
       "      <td>199.0</td>\n",
       "      <td>59.0</td>\n",
       "    </tr>\n",
       "    <tr>\n",
       "      <th>1</th>\n",
       "      <td>tt6751668</td>\n",
       "      <td>Parasite</td>\n",
       "      <td>132.0</td>\n",
       "      <td>Comedy, Drama, Thriller</td>\n",
       "      <td>R</td>\n",
       "      <td>8.6</td>\n",
       "      <td>(2019)</td>\n",
       "      <td>423230</td>\n",
       "      <td>Bong Joon Ho</td>\n",
       "      <td>['Kang-ho Song', 'Sun-kyun Lee', 'Yeo-jeong Jo...</td>\n",
       "      <td>Greed and class discrimination threaten the ne...</td>\n",
       "      <td>2,507 user</td>\n",
       "      <td>515 critic</td>\n",
       "      <td>['Bong Joon Ho', 'Bong Joon Ho']</td>\n",
       "      <td>Korean</td>\n",
       "      <td>['South Korea']</td>\n",
       "      <td>$11400000</td>\n",
       "      <td>$53369749</td>\n",
       "      <td>$393216</td>\n",
       "      <td>['4']</td>\n",
       "      <td>NaN</td>\n",
       "      <td>262.0</td>\n",
       "      <td>227.0</td>\n",
       "      <td>96.0</td>\n",
       "    </tr>\n",
       "    <tr>\n",
       "      <th>2</th>\n",
       "      <td>tt8579674</td>\n",
       "      <td>1917</td>\n",
       "      <td>119.0</td>\n",
       "      <td>Drama, War</td>\n",
       "      <td>R</td>\n",
       "      <td>8.3</td>\n",
       "      <td>(2019)</td>\n",
       "      <td>324071</td>\n",
       "      <td>Sam Mendes</td>\n",
       "      <td>['Dean-Charles Chapman', 'George MacKay', 'Dan...</td>\n",
       "      <td>April 6th, 1917. As a regiment assembles to wa...</td>\n",
       "      <td>2,674 user</td>\n",
       "      <td>461 critic</td>\n",
       "      <td>['Sam Mendes', 'Krysty Wilson-Cairns']</td>\n",
       "      <td>English</td>\n",
       "      <td>['USA', 'UK', 'India', 'Spain', 'Canada']</td>\n",
       "      <td>$95000000</td>\n",
       "      <td>$159227644</td>\n",
       "      <td>$576216</td>\n",
       "      <td>['3']</td>\n",
       "      <td>NaN</td>\n",
       "      <td>110.0</td>\n",
       "      <td>161.0</td>\n",
       "      <td>78.0</td>\n",
       "    </tr>\n",
       "    <tr>\n",
       "      <th>3</th>\n",
       "      <td>tt4154796</td>\n",
       "      <td>Avengers: Endgame</td>\n",
       "      <td>181.0</td>\n",
       "      <td>Action, Adventure, Drama</td>\n",
       "      <td>PG-13</td>\n",
       "      <td>8.4</td>\n",
       "      <td>(2019)</td>\n",
       "      <td>726032</td>\n",
       "      <td>Anthony Russo</td>\n",
       "      <td>['Joe Russo', 'Robert Downey Jr.', 'Chris Evan...</td>\n",
       "      <td>After the devastating events of Avengers: Infi...</td>\n",
       "      <td>8,764 user</td>\n",
       "      <td>550 critic</td>\n",
       "      <td>['Christopher Markus', 'Stephen McFeely']</td>\n",
       "      <td>English</td>\n",
       "      <td>['USA']</td>\n",
       "      <td>$356000000</td>\n",
       "      <td>$858373000</td>\n",
       "      <td>$357115007</td>\n",
       "      <td>NaN</td>\n",
       "      <td>['1']</td>\n",
       "      <td>65.0</td>\n",
       "      <td>103.0</td>\n",
       "      <td>78.0</td>\n",
       "    </tr>\n",
       "    <tr>\n",
       "      <th>4</th>\n",
       "      <td>tt0068646</td>\n",
       "      <td>The Godfather</td>\n",
       "      <td>175.0</td>\n",
       "      <td>Crime, Drama</td>\n",
       "      <td>R</td>\n",
       "      <td>9.2</td>\n",
       "      <td>(1972)</td>\n",
       "      <td>1551490</td>\n",
       "      <td>Francis Ford Coppola</td>\n",
       "      <td>['Marlon Brando', 'Al Pacino', 'James Caan', '...</td>\n",
       "      <td>The aging patriarch of an organized crime dyna...</td>\n",
       "      <td>3,824 user</td>\n",
       "      <td>249 critic</td>\n",
       "      <td>['Mario Puzo', 'Francis Ford Coppola']</td>\n",
       "      <td>English</td>\n",
       "      <td>['USA']</td>\n",
       "      <td>$6000000</td>\n",
       "      <td>$134966411</td>\n",
       "      <td>$302393</td>\n",
       "      <td>['3']</td>\n",
       "      <td>NaN</td>\n",
       "      <td>26.0</td>\n",
       "      <td>30.0</td>\n",
       "      <td>100.0</td>\n",
       "    </tr>\n",
       "  </tbody>\n",
       "</table>\n",
       "</div>"
      ],
      "text/plain": [
       "    movie_id              title  runtime                     genre  \\\n",
       "0  tt7286456              Joker    122.0    Crime, Drama, Thriller   \n",
       "1  tt6751668           Parasite    132.0   Comedy, Drama, Thriller   \n",
       "2  tt8579674               1917    119.0                Drama, War   \n",
       "3  tt4154796  Avengers: Endgame    181.0  Action, Adventure, Drama   \n",
       "4  tt0068646      The Godfather    175.0              Crime, Drama   \n",
       "\n",
       "  certificate  imdb_rating    year    votes              director  \\\n",
       "0           R          8.5  (2019)   804730         Todd Phillips   \n",
       "1           R          8.6  (2019)   423230          Bong Joon Ho   \n",
       "2           R          8.3  (2019)   324071            Sam Mendes   \n",
       "3       PG-13          8.4  (2019)   726032         Anthony Russo   \n",
       "4           R          9.2  (1972)  1551490  Francis Ford Coppola   \n",
       "\n",
       "                                              actors  \\\n",
       "0  ['Joaquin Phoenix', 'Robert De Niro', 'Zazie B...   \n",
       "1  ['Kang-ho Song', 'Sun-kyun Lee', 'Yeo-jeong Jo...   \n",
       "2  ['Dean-Charles Chapman', 'George MacKay', 'Dan...   \n",
       "3  ['Joe Russo', 'Robert Downey Jr.', 'Chris Evan...   \n",
       "4  ['Marlon Brando', 'Al Pacino', 'James Caan', '...   \n",
       "\n",
       "                                             summary  user_review  \\\n",
       "0  In Gotham City, mentally troubled comedian Art...  10,188 user   \n",
       "1  Greed and class discrimination threaten the ne...   2,507 user   \n",
       "2  April 6th, 1917. As a regiment assembles to wa...   2,674 user   \n",
       "3  After the devastating events of Avengers: Infi...   8,764 user   \n",
       "4  The aging patriarch of an organized crime dyna...   3,824 user   \n",
       "\n",
       "  critic_review                                     writer language  \\\n",
       "0    682 critic          ['Todd Phillips', 'Scott Silver']  English   \n",
       "1    515 critic           ['Bong Joon Ho', 'Bong Joon Ho']   Korean   \n",
       "2    461 critic     ['Sam Mendes', 'Krysty Wilson-Cairns']  English   \n",
       "3    550 critic  ['Christopher Markus', 'Stephen McFeely']  English   \n",
       "4    249 critic     ['Mario Puzo', 'Francis Ford Coppola']  English   \n",
       "\n",
       "                                     country      budget       gross  \\\n",
       "0                          ['USA', 'Canada']   $55000000  $335451311   \n",
       "1                            ['South Korea']   $11400000   $53369749   \n",
       "2  ['USA', 'UK', 'India', 'Spain', 'Canada']   $95000000  $159227644   \n",
       "3                                    ['USA']  $356000000  $858373000   \n",
       "4                                    ['USA']    $6000000  $134966411   \n",
       "\n",
       "  opening_week oscar_win oscar_nom  other_win  other_nom  meta_score  \n",
       "0    $96202337     ['2']       NaN       92.0      199.0        59.0  \n",
       "1      $393216     ['4']       NaN      262.0      227.0        96.0  \n",
       "2      $576216     ['3']       NaN      110.0      161.0        78.0  \n",
       "3   $357115007       NaN     ['1']       65.0      103.0        78.0  \n",
       "4      $302393     ['3']       NaN       26.0       30.0       100.0  "
      ]
     },
     "execution_count": 15,
     "metadata": {},
     "output_type": "execute_result"
    }
   ],
   "source": [
    "df.head()"
   ]
  },
  {
   "cell_type": "markdown",
   "metadata": {},
   "source": [
    "##### year"
   ]
  },
  {
   "cell_type": "code",
   "execution_count": 16,
   "metadata": {},
   "outputs": [],
   "source": [
    "df.year = df.year.apply(lambda x: int(re.findall(\"\\d{4}\",x)[0]))"
   ]
  },
  {
   "cell_type": "markdown",
   "metadata": {},
   "source": [
    "#####  runtime. \n",
    "<a name = \"cleaning_runtime\"></a>"
   ]
  },
  {
   "cell_type": "code",
   "execution_count": 17,
   "metadata": {},
   "outputs": [],
   "source": [
    "# fill the 4 missing values with the average. \n",
    "df.runtime.fillna(df.runtime.mean(), inplace=True)"
   ]
  },
  {
   "cell_type": "markdown",
   "metadata": {},
   "source": [
    "#####  Awards"
   ]
  },
  {
   "cell_type": "code",
   "execution_count": 18,
   "metadata": {},
   "outputs": [],
   "source": [
    "# getting only award amount\n",
    "df.oscar_win = df.oscar_win.str.extract(r'(\\d+)')\n",
    "df.oscar_nom = df.oscar_nom.str.extract(r'(\\d+)')\n",
    "\n",
    "# fill missing with 0\n",
    "df.oscar_win.fillna(0, inplace=True)\n",
    "df.oscar_nom.fillna(0, inplace=True)\n",
    "df.other_win.fillna(0, inplace=True)\n",
    "df.other_nom.fillna(0, inplace=True)\n",
    "\n",
    "# converting to int\n",
    "df.oscar_win = df.oscar_win.astype(int)\n",
    "df.oscar_nom = df.oscar_nom.astype(int)\n",
    "df.other_win = df.other_win.apply(lambda x: int(x))\n",
    "df.other_nom = df.other_nom.apply(lambda x: int(x))"
   ]
  },
  {
   "cell_type": "markdown",
   "metadata": {},
   "source": [
    "##### Genre"
   ]
  },
  {
   "cell_type": "code",
   "execution_count": 19,
   "metadata": {},
   "outputs": [
    {
     "data": {
      "text/plain": [
       "(2834, 47)"
      ]
     },
     "execution_count": 19,
     "metadata": {},
     "output_type": "execute_result"
    }
   ],
   "source": [
    "df = custom_encoder(df, \"genre\")\n",
    "df.shape"
   ]
  },
  {
   "cell_type": "markdown",
   "metadata": {},
   "source": [
    "##### Country"
   ]
  },
  {
   "cell_type": "code",
   "execution_count": 20,
   "metadata": {},
   "outputs": [
    {
     "data": {
      "text/plain": [
       "1"
      ]
     },
     "execution_count": 20,
     "metadata": {},
     "output_type": "execute_result"
    }
   ],
   "source": [
    "df.country.isnull().sum()"
   ]
  },
  {
   "cell_type": "code",
   "execution_count": 21,
   "metadata": {},
   "outputs": [],
   "source": [
    "##\n",
    "df.country.fillna('USA', inplace = True)\n",
    "\n",
    "## getting rid of unwanted bits in the string value\n",
    "df.country = cleaner(df, \"country\")\n",
    "\n",
    "# df = custom_encoder(df, \"country\")"
   ]
  },
  {
   "cell_type": "code",
   "execution_count": 22,
   "metadata": {},
   "outputs": [
    {
     "data": {
      "text/plain": [
       "(2834, 47)"
      ]
     },
     "execution_count": 22,
     "metadata": {},
     "output_type": "execute_result"
    }
   ],
   "source": [
    "df.shape"
   ]
  },
  {
   "cell_type": "markdown",
   "metadata": {},
   "source": [
    "##### Meta Score"
   ]
  },
  {
   "cell_type": "code",
   "execution_count": 23,
   "metadata": {},
   "outputs": [
    {
     "data": {
      "text/plain": [
       "1664"
      ]
     },
     "execution_count": 23,
     "metadata": {},
     "output_type": "execute_result"
    }
   ],
   "source": [
    "df.meta_score.isnull().sum()"
   ]
  },
  {
   "cell_type": "code",
   "execution_count": 24,
   "metadata": {},
   "outputs": [],
   "source": [
    "df.meta_score.fillna(df.meta_score.mean(), inplace=True)"
   ]
  },
  {
   "cell_type": "markdown",
   "metadata": {},
   "source": [
    "##### Language"
   ]
  },
  {
   "cell_type": "code",
   "execution_count": 25,
   "metadata": {},
   "outputs": [
    {
     "data": {
      "text/plain": [
       "19"
      ]
     },
     "execution_count": 25,
     "metadata": {},
     "output_type": "execute_result"
    }
   ],
   "source": [
    "df.language.isnull().sum()"
   ]
  },
  {
   "cell_type": "code",
   "execution_count": 26,
   "metadata": {},
   "outputs": [],
   "source": [
    "df.language.fillna(\"English\", inplace=True)\n",
    "\n",
    "# df = custom_encoder(df, \"language\")"
   ]
  },
  {
   "cell_type": "code",
   "execution_count": 27,
   "metadata": {},
   "outputs": [
    {
     "data": {
      "text/plain": [
       "(2834, 47)"
      ]
     },
     "execution_count": 27,
     "metadata": {},
     "output_type": "execute_result"
    }
   ],
   "source": [
    "df.shape"
   ]
  },
  {
   "cell_type": "markdown",
   "metadata": {},
   "source": [
    "##### User_review "
   ]
  },
  {
   "cell_type": "code",
   "execution_count": 28,
   "metadata": {},
   "outputs": [
    {
     "data": {
      "text/plain": [
       "1"
      ]
     },
     "execution_count": 28,
     "metadata": {},
     "output_type": "execute_result"
    }
   ],
   "source": [
    "df.user_review.isnull().sum()"
   ]
  },
  {
   "cell_type": "code",
   "execution_count": 29,
   "metadata": {},
   "outputs": [],
   "source": [
    "df.user_review.fillna('0', inplace = True)\n",
    "\n",
    "df.user_review = df.user_review.apply(lambda x: int(x.replace(\",\", \"\").split(\" \")[0].strip()))"
   ]
  },
  {
   "cell_type": "markdown",
   "metadata": {},
   "source": [
    "##### critic review"
   ]
  },
  {
   "cell_type": "code",
   "execution_count": 30,
   "metadata": {},
   "outputs": [
    {
     "data": {
      "text/plain": [
       "102"
      ]
     },
     "execution_count": 30,
     "metadata": {},
     "output_type": "execute_result"
    }
   ],
   "source": [
    "df.critic_review.isnull().sum()"
   ]
  },
  {
   "cell_type": "code",
   "execution_count": 31,
   "metadata": {},
   "outputs": [],
   "source": [
    "df.critic_review = df.critic_review.str.extract(r'(\\d+)')\n",
    "\n",
    "df.critic_review.fillna(0, inplace=True)"
   ]
  },
  {
   "cell_type": "markdown",
   "metadata": {},
   "source": [
    "##### budget"
   ]
  },
  {
   "cell_type": "code",
   "execution_count": 32,
   "metadata": {},
   "outputs": [
    {
     "data": {
      "text/plain": [
       "1483"
      ]
     },
     "execution_count": 32,
     "metadata": {},
     "output_type": "execute_result"
    }
   ],
   "source": [
    "df.budget.isnull().sum()"
   ]
  },
  {
   "cell_type": "code",
   "execution_count": 33,
   "metadata": {},
   "outputs": [],
   "source": [
    "df.budget = df.budget.str.extract(r'(\\d+)')\n",
    "\n",
    "df.budget.fillna('0', inplace = True)\n",
    "\n",
    "df.budget = df.budget.apply(lambda x: int(x))\n",
    "\n",
    "## replacing the 0's with budget median value not including 0's\n",
    "df.budget = df.budget.replace(0, df[df.budget != 0].budget.median())"
   ]
  },
  {
   "cell_type": "markdown",
   "metadata": {},
   "source": [
    "##### gross"
   ]
  },
  {
   "cell_type": "code",
   "execution_count": 34,
   "metadata": {},
   "outputs": [
    {
     "data": {
      "text/plain": [
       "1629"
      ]
     },
     "execution_count": 34,
     "metadata": {},
     "output_type": "execute_result"
    }
   ],
   "source": [
    "df.gross.isnull().sum()"
   ]
  },
  {
   "cell_type": "code",
   "execution_count": 35,
   "metadata": {},
   "outputs": [],
   "source": [
    "df.gross = df.gross.str.extract(r'(\\d+)')\n",
    "\n",
    "df.gross.fillna('0', inplace = True)\n",
    "\n",
    "df.gross = df.gross.apply(lambda x: int(x))\n",
    "\n",
    "## replacing the 0's with budget median value not including 0's\n",
    "df.gross = df.gross.replace(0, df[df.gross != 0].gross.median())"
   ]
  },
  {
   "cell_type": "markdown",
   "metadata": {},
   "source": [
    "##### Opening week"
   ]
  },
  {
   "cell_type": "code",
   "execution_count": 36,
   "metadata": {},
   "outputs": [
    {
     "data": {
      "text/plain": [
       "1747"
      ]
     },
     "execution_count": 36,
     "metadata": {},
     "output_type": "execute_result"
    }
   ],
   "source": [
    "df.opening_week.isnull().sum()"
   ]
  },
  {
   "cell_type": "code",
   "execution_count": 37,
   "metadata": {},
   "outputs": [],
   "source": [
    "df.opening_week = df.opening_week.str.extract(r'(\\d+)')\n",
    "\n",
    "df.opening_week.fillna('0', inplace = True)\n",
    "\n",
    "df.opening_week = df.opening_week.apply(lambda x: int(x))\n",
    "\n",
    "## replacing the 0's with budget median value not including 0's\n",
    "df.opening_week = df.opening_week.replace(0, df[df.gross != 0].opening_week.median())"
   ]
  },
  {
   "cell_type": "markdown",
   "metadata": {},
   "source": [
    "##### certificate"
   ]
  },
  {
   "cell_type": "code",
   "execution_count": 38,
   "metadata": {},
   "outputs": [
    {
     "data": {
      "text/plain": [
       "494"
      ]
     },
     "execution_count": 38,
     "metadata": {},
     "output_type": "execute_result"
    }
   ],
   "source": [
    "df.certificate.isnull().sum()"
   ]
  },
  {
   "cell_type": "code",
   "execution_count": 39,
   "metadata": {},
   "outputs": [],
   "source": [
    "df.certificate.fillna('Not Rated', inplace = True)\n",
    "df.certificate.replace(\"Not Rated\", \"Unrated\", inplace=True)"
   ]
  },
  {
   "cell_type": "code",
   "execution_count": 40,
   "metadata": {},
   "outputs": [
    {
     "data": {
      "text/html": [
       "<div>\n",
       "<style scoped>\n",
       "    .dataframe tbody tr th:only-of-type {\n",
       "        vertical-align: middle;\n",
       "    }\n",
       "\n",
       "    .dataframe tbody tr th {\n",
       "        vertical-align: top;\n",
       "    }\n",
       "\n",
       "    .dataframe thead th {\n",
       "        text-align: right;\n",
       "    }\n",
       "</style>\n",
       "<table border=\"1\" class=\"dataframe\">\n",
       "  <thead>\n",
       "    <tr style=\"text-align: right;\">\n",
       "      <th></th>\n",
       "      <th>movie_id</th>\n",
       "      <th>title</th>\n",
       "      <th>runtime</th>\n",
       "      <th>certificate</th>\n",
       "      <th>imdb_rating</th>\n",
       "      <th>year</th>\n",
       "      <th>votes</th>\n",
       "      <th>director</th>\n",
       "      <th>actors</th>\n",
       "      <th>summary</th>\n",
       "      <th>user_review</th>\n",
       "      <th>critic_review</th>\n",
       "      <th>writer</th>\n",
       "      <th>language</th>\n",
       "      <th>country</th>\n",
       "      <th>budget</th>\n",
       "      <th>gross</th>\n",
       "      <th>opening_week</th>\n",
       "      <th>oscar_win</th>\n",
       "      <th>oscar_nom</th>\n",
       "      <th>other_win</th>\n",
       "      <th>other_nom</th>\n",
       "      <th>meta_score</th>\n",
       "      <th>Crime</th>\n",
       "      <th>Drama</th>\n",
       "      <th>Thriller</th>\n",
       "      <th>Comedy</th>\n",
       "      <th>War</th>\n",
       "      <th>Action</th>\n",
       "      <th>Adventure</th>\n",
       "      <th>Sci-Fi</th>\n",
       "      <th>Western</th>\n",
       "      <th>Biography</th>\n",
       "      <th>Horror</th>\n",
       "      <th>Fantasy</th>\n",
       "      <th>Romance</th>\n",
       "      <th>Mystery</th>\n",
       "      <th>Family</th>\n",
       "      <th>History</th>\n",
       "      <th>Music</th>\n",
       "      <th>Animation</th>\n",
       "      <th>Sport</th>\n",
       "      <th>Musical</th>\n",
       "      <th>Film-Noir</th>\n",
       "      <th>Documentary</th>\n",
       "      <th>News</th>\n",
       "      <th>Short</th>\n",
       "    </tr>\n",
       "  </thead>\n",
       "  <tbody>\n",
       "    <tr>\n",
       "      <th>0</th>\n",
       "      <td>tt7286456</td>\n",
       "      <td>Joker</td>\n",
       "      <td>122.0</td>\n",
       "      <td>R</td>\n",
       "      <td>8.5</td>\n",
       "      <td>2019</td>\n",
       "      <td>804730</td>\n",
       "      <td>Todd Phillips</td>\n",
       "      <td>['Joaquin Phoenix', 'Robert De Niro', 'Zazie B...</td>\n",
       "      <td>In Gotham City, mentally troubled comedian Art...</td>\n",
       "      <td>10188</td>\n",
       "      <td>682</td>\n",
       "      <td>['Todd Phillips', 'Scott Silver']</td>\n",
       "      <td>English</td>\n",
       "      <td>USA, Canada</td>\n",
       "      <td>55000000</td>\n",
       "      <td>335451311</td>\n",
       "      <td>96202337</td>\n",
       "      <td>2</td>\n",
       "      <td>0</td>\n",
       "      <td>92</td>\n",
       "      <td>199</td>\n",
       "      <td>59.0</td>\n",
       "      <td>1</td>\n",
       "      <td>1</td>\n",
       "      <td>1</td>\n",
       "      <td>0</td>\n",
       "      <td>0</td>\n",
       "      <td>0</td>\n",
       "      <td>0</td>\n",
       "      <td>0</td>\n",
       "      <td>0</td>\n",
       "      <td>0</td>\n",
       "      <td>0</td>\n",
       "      <td>0</td>\n",
       "      <td>0</td>\n",
       "      <td>0</td>\n",
       "      <td>0</td>\n",
       "      <td>0</td>\n",
       "      <td>0</td>\n",
       "      <td>0</td>\n",
       "      <td>0</td>\n",
       "      <td>0</td>\n",
       "      <td>0</td>\n",
       "      <td>0</td>\n",
       "      <td>0</td>\n",
       "      <td>0</td>\n",
       "    </tr>\n",
       "    <tr>\n",
       "      <th>1</th>\n",
       "      <td>tt6751668</td>\n",
       "      <td>Parasite</td>\n",
       "      <td>132.0</td>\n",
       "      <td>R</td>\n",
       "      <td>8.6</td>\n",
       "      <td>2019</td>\n",
       "      <td>423230</td>\n",
       "      <td>Bong Joon Ho</td>\n",
       "      <td>['Kang-ho Song', 'Sun-kyun Lee', 'Yeo-jeong Jo...</td>\n",
       "      <td>Greed and class discrimination threaten the ne...</td>\n",
       "      <td>2507</td>\n",
       "      <td>515</td>\n",
       "      <td>['Bong Joon Ho', 'Bong Joon Ho']</td>\n",
       "      <td>Korean</td>\n",
       "      <td>South Korea</td>\n",
       "      <td>11400000</td>\n",
       "      <td>53369749</td>\n",
       "      <td>393216</td>\n",
       "      <td>4</td>\n",
       "      <td>0</td>\n",
       "      <td>262</td>\n",
       "      <td>227</td>\n",
       "      <td>96.0</td>\n",
       "      <td>0</td>\n",
       "      <td>1</td>\n",
       "      <td>1</td>\n",
       "      <td>1</td>\n",
       "      <td>0</td>\n",
       "      <td>0</td>\n",
       "      <td>0</td>\n",
       "      <td>0</td>\n",
       "      <td>0</td>\n",
       "      <td>0</td>\n",
       "      <td>0</td>\n",
       "      <td>0</td>\n",
       "      <td>0</td>\n",
       "      <td>0</td>\n",
       "      <td>0</td>\n",
       "      <td>0</td>\n",
       "      <td>0</td>\n",
       "      <td>0</td>\n",
       "      <td>0</td>\n",
       "      <td>0</td>\n",
       "      <td>0</td>\n",
       "      <td>0</td>\n",
       "      <td>0</td>\n",
       "      <td>0</td>\n",
       "    </tr>\n",
       "    <tr>\n",
       "      <th>2</th>\n",
       "      <td>tt8579674</td>\n",
       "      <td>1917</td>\n",
       "      <td>119.0</td>\n",
       "      <td>R</td>\n",
       "      <td>8.3</td>\n",
       "      <td>2019</td>\n",
       "      <td>324071</td>\n",
       "      <td>Sam Mendes</td>\n",
       "      <td>['Dean-Charles Chapman', 'George MacKay', 'Dan...</td>\n",
       "      <td>April 6th, 1917. As a regiment assembles to wa...</td>\n",
       "      <td>2674</td>\n",
       "      <td>461</td>\n",
       "      <td>['Sam Mendes', 'Krysty Wilson-Cairns']</td>\n",
       "      <td>English</td>\n",
       "      <td>USA, UK, India, Spain, Canada</td>\n",
       "      <td>95000000</td>\n",
       "      <td>159227644</td>\n",
       "      <td>576216</td>\n",
       "      <td>3</td>\n",
       "      <td>0</td>\n",
       "      <td>110</td>\n",
       "      <td>161</td>\n",
       "      <td>78.0</td>\n",
       "      <td>0</td>\n",
       "      <td>1</td>\n",
       "      <td>0</td>\n",
       "      <td>0</td>\n",
       "      <td>1</td>\n",
       "      <td>0</td>\n",
       "      <td>0</td>\n",
       "      <td>0</td>\n",
       "      <td>0</td>\n",
       "      <td>0</td>\n",
       "      <td>0</td>\n",
       "      <td>0</td>\n",
       "      <td>0</td>\n",
       "      <td>0</td>\n",
       "      <td>0</td>\n",
       "      <td>0</td>\n",
       "      <td>0</td>\n",
       "      <td>0</td>\n",
       "      <td>0</td>\n",
       "      <td>0</td>\n",
       "      <td>0</td>\n",
       "      <td>0</td>\n",
       "      <td>0</td>\n",
       "      <td>0</td>\n",
       "    </tr>\n",
       "    <tr>\n",
       "      <th>3</th>\n",
       "      <td>tt4154796</td>\n",
       "      <td>Avengers: Endgame</td>\n",
       "      <td>181.0</td>\n",
       "      <td>PG-13</td>\n",
       "      <td>8.4</td>\n",
       "      <td>2019</td>\n",
       "      <td>726032</td>\n",
       "      <td>Anthony Russo</td>\n",
       "      <td>['Joe Russo', 'Robert Downey Jr.', 'Chris Evan...</td>\n",
       "      <td>After the devastating events of Avengers: Infi...</td>\n",
       "      <td>8764</td>\n",
       "      <td>550</td>\n",
       "      <td>['Christopher Markus', 'Stephen McFeely']</td>\n",
       "      <td>English</td>\n",
       "      <td>USA</td>\n",
       "      <td>356000000</td>\n",
       "      <td>858373000</td>\n",
       "      <td>357115007</td>\n",
       "      <td>0</td>\n",
       "      <td>1</td>\n",
       "      <td>65</td>\n",
       "      <td>103</td>\n",
       "      <td>78.0</td>\n",
       "      <td>0</td>\n",
       "      <td>1</td>\n",
       "      <td>0</td>\n",
       "      <td>0</td>\n",
       "      <td>0</td>\n",
       "      <td>1</td>\n",
       "      <td>1</td>\n",
       "      <td>0</td>\n",
       "      <td>0</td>\n",
       "      <td>0</td>\n",
       "      <td>0</td>\n",
       "      <td>0</td>\n",
       "      <td>0</td>\n",
       "      <td>0</td>\n",
       "      <td>0</td>\n",
       "      <td>0</td>\n",
       "      <td>0</td>\n",
       "      <td>0</td>\n",
       "      <td>0</td>\n",
       "      <td>0</td>\n",
       "      <td>0</td>\n",
       "      <td>0</td>\n",
       "      <td>0</td>\n",
       "      <td>0</td>\n",
       "    </tr>\n",
       "    <tr>\n",
       "      <th>4</th>\n",
       "      <td>tt0068646</td>\n",
       "      <td>The Godfather</td>\n",
       "      <td>175.0</td>\n",
       "      <td>R</td>\n",
       "      <td>9.2</td>\n",
       "      <td>1972</td>\n",
       "      <td>1551490</td>\n",
       "      <td>Francis Ford Coppola</td>\n",
       "      <td>['Marlon Brando', 'Al Pacino', 'James Caan', '...</td>\n",
       "      <td>The aging patriarch of an organized crime dyna...</td>\n",
       "      <td>3824</td>\n",
       "      <td>249</td>\n",
       "      <td>['Mario Puzo', 'Francis Ford Coppola']</td>\n",
       "      <td>English</td>\n",
       "      <td>USA</td>\n",
       "      <td>6000000</td>\n",
       "      <td>134966411</td>\n",
       "      <td>302393</td>\n",
       "      <td>3</td>\n",
       "      <td>0</td>\n",
       "      <td>26</td>\n",
       "      <td>30</td>\n",
       "      <td>100.0</td>\n",
       "      <td>1</td>\n",
       "      <td>1</td>\n",
       "      <td>0</td>\n",
       "      <td>0</td>\n",
       "      <td>0</td>\n",
       "      <td>0</td>\n",
       "      <td>0</td>\n",
       "      <td>0</td>\n",
       "      <td>0</td>\n",
       "      <td>0</td>\n",
       "      <td>0</td>\n",
       "      <td>0</td>\n",
       "      <td>0</td>\n",
       "      <td>0</td>\n",
       "      <td>0</td>\n",
       "      <td>0</td>\n",
       "      <td>0</td>\n",
       "      <td>0</td>\n",
       "      <td>0</td>\n",
       "      <td>0</td>\n",
       "      <td>0</td>\n",
       "      <td>0</td>\n",
       "      <td>0</td>\n",
       "      <td>0</td>\n",
       "    </tr>\n",
       "  </tbody>\n",
       "</table>\n",
       "</div>"
      ],
      "text/plain": [
       "    movie_id              title  runtime certificate  imdb_rating  year  \\\n",
       "0  tt7286456              Joker    122.0           R          8.5  2019   \n",
       "1  tt6751668           Parasite    132.0           R          8.6  2019   \n",
       "2  tt8579674               1917    119.0           R          8.3  2019   \n",
       "3  tt4154796  Avengers: Endgame    181.0       PG-13          8.4  2019   \n",
       "4  tt0068646      The Godfather    175.0           R          9.2  1972   \n",
       "\n",
       "     votes              director  \\\n",
       "0   804730         Todd Phillips   \n",
       "1   423230          Bong Joon Ho   \n",
       "2   324071            Sam Mendes   \n",
       "3   726032         Anthony Russo   \n",
       "4  1551490  Francis Ford Coppola   \n",
       "\n",
       "                                              actors  \\\n",
       "0  ['Joaquin Phoenix', 'Robert De Niro', 'Zazie B...   \n",
       "1  ['Kang-ho Song', 'Sun-kyun Lee', 'Yeo-jeong Jo...   \n",
       "2  ['Dean-Charles Chapman', 'George MacKay', 'Dan...   \n",
       "3  ['Joe Russo', 'Robert Downey Jr.', 'Chris Evan...   \n",
       "4  ['Marlon Brando', 'Al Pacino', 'James Caan', '...   \n",
       "\n",
       "                                             summary  user_review  \\\n",
       "0  In Gotham City, mentally troubled comedian Art...        10188   \n",
       "1  Greed and class discrimination threaten the ne...         2507   \n",
       "2  April 6th, 1917. As a regiment assembles to wa...         2674   \n",
       "3  After the devastating events of Avengers: Infi...         8764   \n",
       "4  The aging patriarch of an organized crime dyna...         3824   \n",
       "\n",
       "  critic_review                                     writer language  \\\n",
       "0           682          ['Todd Phillips', 'Scott Silver']  English   \n",
       "1           515           ['Bong Joon Ho', 'Bong Joon Ho']   Korean   \n",
       "2           461     ['Sam Mendes', 'Krysty Wilson-Cairns']  English   \n",
       "3           550  ['Christopher Markus', 'Stephen McFeely']  English   \n",
       "4           249     ['Mario Puzo', 'Francis Ford Coppola']  English   \n",
       "\n",
       "                         country     budget      gross  opening_week  \\\n",
       "0                    USA, Canada   55000000  335451311      96202337   \n",
       "1                    South Korea   11400000   53369749        393216   \n",
       "2  USA, UK, India, Spain, Canada   95000000  159227644        576216   \n",
       "3                            USA  356000000  858373000     357115007   \n",
       "4                            USA    6000000  134966411        302393   \n",
       "\n",
       "   oscar_win  oscar_nom  other_win  other_nom  meta_score  Crime  Drama  \\\n",
       "0          2          0         92        199        59.0      1      1   \n",
       "1          4          0        262        227        96.0      0      1   \n",
       "2          3          0        110        161        78.0      0      1   \n",
       "3          0          1         65        103        78.0      0      1   \n",
       "4          3          0         26         30       100.0      1      1   \n",
       "\n",
       "   Thriller  Comedy  War  Action  Adventure  Sci-Fi  Western  Biography  \\\n",
       "0         1       0    0       0          0       0        0          0   \n",
       "1         1       1    0       0          0       0        0          0   \n",
       "2         0       0    1       0          0       0        0          0   \n",
       "3         0       0    0       1          1       0        0          0   \n",
       "4         0       0    0       0          0       0        0          0   \n",
       "\n",
       "   Horror  Fantasy  Romance  Mystery  Family  History  Music  Animation  \\\n",
       "0       0        0        0        0       0        0      0          0   \n",
       "1       0        0        0        0       0        0      0          0   \n",
       "2       0        0        0        0       0        0      0          0   \n",
       "3       0        0        0        0       0        0      0          0   \n",
       "4       0        0        0        0       0        0      0          0   \n",
       "\n",
       "   Sport  Musical  Film-Noir  Documentary  News  Short  \n",
       "0      0        0          0            0     0      0  \n",
       "1      0        0          0            0     0      0  \n",
       "2      0        0          0            0     0      0  \n",
       "3      0        0          0            0     0      0  \n",
       "4      0        0          0            0     0      0  "
      ]
     },
     "execution_count": 40,
     "metadata": {},
     "output_type": "execute_result"
    }
   ],
   "source": [
    "df.head()"
   ]
  },
  {
   "cell_type": "markdown",
   "metadata": {},
   "source": [
    "##### Rotten Tomato scores"
   ]
  },
  {
   "cell_type": "code",
   "execution_count": 41,
   "metadata": {
    "scrolled": true
   },
   "outputs": [],
   "source": [
    "# df.rt_score = df.rt_score.str.extract(r'(\\d+)')\n",
    "\n",
    "# df.rt_score = [None if type(x) is float else int(x) for x in df.rt_score]\n",
    "\n",
    "# df.rt_avg_rating = [None if type(x) is float else x.split(\"/\")[0] for x in df.rt_avg_rating]\n",
    "\n",
    "\n",
    "# df.rt_avg_rating = [int(x) if x else None for x in df.rt_avg_rating]\n",
    "\n",
    "# df.rt_audience_score = df.rt_audience_score.str.extract(r'(\\d+)')\n",
    "\n",
    "# df.rt_avg_aud_rating = [None if type(x) is float else x.split(\"/\")[0] for x in df.rt_avg_aud_rating]\n",
    "\n",
    "# df.rt_user_rating = [i.replace(',',\"\") for i in df.rt_user_rating]"
   ]
  },
  {
   "cell_type": "markdown",
   "metadata": {},
   "source": [
    "##### actors"
   ]
  },
  {
   "cell_type": "code",
   "execution_count": 42,
   "metadata": {},
   "outputs": [
    {
     "data": {
      "text/plain": [
       "0"
      ]
     },
     "execution_count": 42,
     "metadata": {},
     "output_type": "execute_result"
    }
   ],
   "source": [
    "df.actors.isnull().sum()"
   ]
  },
  {
   "cell_type": "code",
   "execution_count": 43,
   "metadata": {},
   "outputs": [
    {
     "data": {
      "text/plain": [
       "8447"
      ]
     },
     "execution_count": 43,
     "metadata": {},
     "output_type": "execute_result"
    }
   ],
   "source": [
    "df.actors = cleaner(df, \"actors\")\n",
    "\n",
    "# df = custom_encoder(df, 'actors')\n",
    "\n",
    "## unique values\n",
    "len(unique_values(df, 'actors'))"
   ]
  },
  {
   "cell_type": "code",
   "execution_count": 44,
   "metadata": {},
   "outputs": [
    {
     "data": {
      "text/plain": [
       "(2834, 46)"
      ]
     },
     "execution_count": 44,
     "metadata": {},
     "output_type": "execute_result"
    }
   ],
   "source": [
    "## too many unique values, therefore dropping actors.\n",
    "df.drop(columns=\"actors\", inplace=True)\n",
    "\n",
    "df.shape"
   ]
  },
  {
   "cell_type": "markdown",
   "metadata": {},
   "source": [
    "##### Writer"
   ]
  },
  {
   "cell_type": "code",
   "execution_count": 45,
   "metadata": {},
   "outputs": [
    {
     "data": {
      "text/plain": [
       "4"
      ]
     },
     "execution_count": 45,
     "metadata": {},
     "output_type": "execute_result"
    }
   ],
   "source": [
    "df.writer.isnull().sum()"
   ]
  },
  {
   "cell_type": "code",
   "execution_count": 46,
   "metadata": {},
   "outputs": [],
   "source": [
    "writer = []\n",
    "for x in df.writer:\n",
    "    try:\n",
    "        a = x.split(\"(\")[0].strip()\n",
    "        a = a.strip(\",\")\n",
    "        a = a.replace(\" \", \"_\")\n",
    "    except:\n",
    "        a = None\n",
    "    writer.append(a)\n",
    "df.writer = writer"
   ]
  },
  {
   "cell_type": "code",
   "execution_count": 47,
   "metadata": {},
   "outputs": [
    {
     "data": {
      "text/plain": [
       "2585"
      ]
     },
     "execution_count": 47,
     "metadata": {},
     "output_type": "execute_result"
    }
   ],
   "source": [
    "unique_writer = []\n",
    "for i in df.writer:\n",
    "    if i not in unique_writer:\n",
    "        unique_writer.append(i)\n",
    "len(unique_writer)"
   ]
  },
  {
   "cell_type": "code",
   "execution_count": 48,
   "metadata": {},
   "outputs": [],
   "source": [
    "## Dropping writer since there are too many unique values. \n",
    "df.drop(\"writer\", axis=1, inplace=True)"
   ]
  },
  {
   "cell_type": "markdown",
   "metadata": {},
   "source": [
    "##### Directors."
   ]
  },
  {
   "cell_type": "code",
   "execution_count": 49,
   "metadata": {},
   "outputs": [
    {
     "data": {
      "text/plain": [
       "0"
      ]
     },
     "execution_count": 49,
     "metadata": {},
     "output_type": "execute_result"
    }
   ],
   "source": [
    "df.director.isnull().sum()"
   ]
  },
  {
   "cell_type": "code",
   "execution_count": 50,
   "metadata": {},
   "outputs": [
    {
     "data": {
      "text/plain": [
       "2073"
      ]
     },
     "execution_count": 50,
     "metadata": {},
     "output_type": "execute_result"
    }
   ],
   "source": [
    "len(df.director.value_counts())"
   ]
  },
  {
   "cell_type": "code",
   "execution_count": 51,
   "metadata": {
    "scrolled": true
   },
   "outputs": [],
   "source": [
    "## Dropping \"director\" columns since there are too many unique values. \n",
    "df.drop(\"director\", axis=1, inplace=True)"
   ]
  },
  {
   "cell_type": "markdown",
   "metadata": {},
   "source": [
    "## Visualization\n",
    "<a name=\"visualization\"></a>"
   ]
  },
  {
   "cell_type": "code",
   "execution_count": 52,
   "metadata": {},
   "outputs": [],
   "source": [
    "import matplotlib.pyplot as plt\n",
    "import seaborn as sns"
   ]
  },
  {
   "cell_type": "code",
   "execution_count": 53,
   "metadata": {},
   "outputs": [
    {
     "data": {
      "image/png": "[encoded data removed]",
      "text/plain": [
       "<Figure size 1080x576 with 2 Axes>"
      ]
     },
     "metadata": {
      "needs_background": "light"
     },
     "output_type": "display_data"
    }
   ],
   "source": [
    "fig, ax = plt.subplots(figsize = (15,8))\n",
    "sns.heatmap(df.corr(), \n",
    "            center = 0, \n",
    "           cmap = 'RdBu');"
   ]
  },
  {
   "cell_type": "code",
   "execution_count": 54,
   "metadata": {
    "scrolled": false
   },
   "outputs": [
    {
     "data": {
      "image/png": "[encoded data removed]",
      "text/plain": [
       "<Figure size 1080x576 with 2 Axes>"
      ]
     },
     "metadata": {
      "needs_background": "light"
     },
     "output_type": "display_data"
    }
   ],
   "source": [
    "fig, ax = plt.subplots(figsize = (15,8))\n",
    "sns.heatmap(df.corr()**2,\n",
    "            center=0\n",
    "           );\n",
    "plt.title(\"Correlation between features\", size = 20);"
   ]
  },
  {
   "cell_type": "code",
   "execution_count": 55,
   "metadata": {},
   "outputs": [
    {
     "data": {
      "image/png": "[encoded data removed]",
      "text/plain": [
       "<Figure size 1080x576 with 1 Axes>"
      ]
     },
     "metadata": {
      "needs_background": "light"
     },
     "output_type": "display_data"
    }
   ],
   "source": [
    "fig, ax = plt.subplots(figsize = (15,8))\n",
    "sns.distplot(df.imdb_rating,bins = 50);\n",
    "plt.title(\"Distribution of imdb ratings among movies\", size = 20);"
   ]
  },
  {
   "cell_type": "markdown",
   "metadata": {},
   "source": [
    "The distribution of the imdb_rating clearly shows how I have chosen two sets of movies. This could give me a result with better r scores. However, it is important to keep in mind that in the real work the distribution do not act similarly. Often you get data sets \n"
   ]
  },
  {
   "cell_type": "code",
   "execution_count": 56,
   "metadata": {
    "scrolled": false
   },
   "outputs": [
    {
     "data": {
      "image/png": "[encoded data removed]",
      "text/plain": [
       "<Figure size 1080x576 with 1 Axes>"
      ]
     },
     "metadata": {
      "needs_background": "light"
     },
     "output_type": "display_data"
    }
   ],
   "source": [
    "fig, ax = plt.subplots(figsize = (15,8))\n",
    "sns.distplot(df.year,bins = 50);\n",
    "plt.title(\"Distribution of years among movies\", size = 20);"
   ]
  },
  {
   "cell_type": "markdown",
   "metadata": {},
   "source": [
    "Most of the movies are pretty recent."
   ]
  },
  {
   "cell_type": "markdown",
   "metadata": {},
   "source": [
    "## Feature Engineering\n",
    "<a name =\"feature_engineering\"></a>"
   ]
  },
  {
   "cell_type": "code",
   "execution_count": 57,
   "metadata": {},
   "outputs": [],
   "source": [
    "## using my custom function to encode country\n",
    "df = custom_encoder(df, 'country')\n",
    "\n",
    "## Set year to str\n",
    "df.year = df.year.astype(str)\n",
    "\n",
    "df = pd.get_dummies(df, columns=[\"language\", \"certificate\", \"year\"], drop_first=True)\n",
    "\n",
    "df['label'] = df.imdb_rating.apply(lambda x : 1 if x > 7.5 else 0)\n",
    "\n",
    "y = df.label\n",
    "X = df.drop([\"movie_id\", \"title\", \"imdb_rating\",\"label\", \"summary\" ],axis = 1)\n"
   ]
  },
  {
   "cell_type": "code",
   "execution_count": 58,
   "metadata": {},
   "outputs": [
    {
     "data": {
      "text/plain": [
       "(2834, 315)"
      ]
     },
     "execution_count": 58,
     "metadata": {},
     "output_type": "execute_result"
    }
   ],
   "source": [
    "X.shape"
   ]
  },
  {
   "cell_type": "code",
   "execution_count": 59,
   "metadata": {},
   "outputs": [
    {
     "data": {
      "text/plain": [
       "2834"
      ]
     },
     "execution_count": 59,
     "metadata": {},
     "output_type": "execute_result"
    }
   ],
   "source": [
    "len(y)"
   ]
  },
  {
   "cell_type": "markdown",
   "metadata": {},
   "source": [
    "### Train-test split\n",
    "<a name=\"train_test_split\"></a>"
   ]
  },
  {
   "cell_type": "code",
   "execution_count": 60,
   "metadata": {},
   "outputs": [],
   "source": [
    "from sklearn.model_selection import train_test_split\n",
    "X_train, X_test, y_train, y_test = train_test_split(X,y,test_size=.25)"
   ]
  },
  {
   "cell_type": "markdown",
   "metadata": {},
   "source": [
    "#### Feature scaling"
   ]
  },
  {
   "cell_type": "code",
   "execution_count": 61,
   "metadata": {},
   "outputs": [],
   "source": [
    "from sklearn.preprocessing import minmax_scale, StandardScaler\n",
    "\n",
    "scale = [\"runtime\", \"votes\", \"user_review\", \"critic_review\", \"budget\", \"gross\",\"opening_week\",\"meta_score\", \"other_win\", \"other_nom\"]\n",
    "\n",
    "scaler = StandardScaler()"
   ]
  },
  {
   "cell_type": "code",
   "execution_count": 62,
   "metadata": {
    "scrolled": true
   },
   "outputs": [],
   "source": [
    "X_train[scale] = scaler.fit_transform(X_train[scale])\n",
    "#X_test[scale] = scaler.fit_transform(X_test[scale])"
   ]
  },
  {
   "cell_type": "code",
   "execution_count": 63,
   "metadata": {},
   "outputs": [],
   "source": [
    "X_test[scale] = scaler.fit_transform(X_test[scale])"
   ]
  },
  {
   "cell_type": "markdown",
   "metadata": {},
   "source": [
    "## Creating Models\n",
    "<a name=\"creating_models\"></a>\n"
   ]
  },
  {
   "cell_type": "code",
   "execution_count": 64,
   "metadata": {},
   "outputs": [],
   "source": [
    "from sklearn.ensemble import RandomForestClassifier,BaggingClassifier\n",
    "from sklearn.model_selection import GridSearchCV, StratifiedKFold, cross_val_score\n",
    "from sklearn.metrics import confusion_matrix, accuracy_score, classification_report,precision_recall_curve\n",
    "from sklearn.tree import DecisionTreeClassifier"
   ]
  },
  {
   "cell_type": "markdown",
   "metadata": {},
   "source": [
    "##### Finding the best Max_depth"
   ]
  },
  {
   "cell_type": "code",
   "execution_count": 65,
   "metadata": {
    "scrolled": false
   },
   "outputs": [],
   "source": [
    "# finding the best max depth for the DecisionTreeClassifier. \n",
    "\n",
    "cv = StratifiedKFold(n_splits=5, shuffle=True, random_state=11)\n",
    "\n",
    "max_depth_counter = {}\n",
    "for i in [1,2,3,4,5,6,7,8, 9,10, None]:\n",
    "    decision_tree = DecisionTreeClassifier(max_depth=i)\n",
    "    \n",
    "    ## assign cv mean with \n",
    "    cv_mean = cross_val_score(decision_tree, X_train, y_train, cv=cv, n_jobs = -1).mean()\n",
    "\n",
    "    ## getting cv mean and max depth in a dict\n",
    "    max_depth_counter[i] = cv_mean\n",
    "    print (\"Max depth:{}\".format(i))\n",
    "    print (cross_val_score(decision_tree, X_train, y_train, cv=cv, n_jobs = -1).mean())\n",
    "    \n",
    "  "
   ]
  },
  {
   "cell_type": "markdown",
   "metadata": {},
   "source": [
    "##### GridSearch on Random Forest"
   ]
  },
  {
   "cell_type": "code",
   "execution_count": 66,
   "metadata": {},
   "outputs": [
    {
     "data": {
      "text/plain": [
       "{'class_weight': 'balanced_subsample',\n",
       " 'criterion': 'gini',\n",
       " 'max_features': 'auto',\n",
       " 'n_estimators': 110}"
      ]
     },
     "execution_count": 66,
     "metadata": {},
     "output_type": "execute_result"
    }
   ],
   "source": [
    "grid = {\n",
    "    'n_estimators': [50, 95,100,110],\n",
    "    'max_features': [1,2,3,4,5,6,'auto'],\n",
    "    'criterion': ['gini','entropy'],\n",
    "    'class_weight': [\"balanced\",\"balanced_subsample\",None]\n",
    "}\n",
    "\n",
    "\n",
    "\n",
    "decision_tree = DecisionTreeClassifier(\n",
    "    max_depth=max(max_depth_counter, key = max_depth_counter.get))\n",
    "\n",
    "random_forest = RandomForestClassifier(decision_tree)\n",
    "grid_model = GridSearchCV(random_forest, grid, )\n",
    "\n",
    "grid_model.fit(X_train, y_train)\n",
    "grid_model.best_params_"
   ]
  },
  {
   "cell_type": "code",
   "execution_count": 67,
   "metadata": {},
   "outputs": [],
   "source": [
    "print (grid_model.best_params_)\n",
    "print (grid_model.best_score_)"
   ]
  },
  {
   "cell_type": "code",
   "execution_count": 68,
   "metadata": {},
   "outputs": [
    {
     "data": {
      "text/plain": [
       "GridSearchCV(cv=None, error_score=nan,\n",
       "             estimator=RandomForestClassifier(bootstrap=True, ccp_alpha=0.0,\n",
       "                                              class_weight=None,\n",
       "                                              criterion='gini', max_depth=None,\n",
       "                                              max_features='auto',\n",
       "                                              max_leaf_nodes=None,\n",
       "                                              max_samples=None,\n",
       "                                              min_impurity_decrease=0.0,\n",
       "                                              min_impurity_split=None,\n",
       "                                              min_samples_leaf=1,\n",
       "                                              min_samples_split=2,\n",
       "                                              min_weight_fraction_leaf=0.0,\n",
       "                                              n_estimators=DecisionTreeC...\n",
       "                                              n_jobs=None, oob_score=False,\n",
       "                                              random_state=None, verbose=0,\n",
       "                                              warm_start=False),\n",
       "             iid='deprecated', n_jobs=None,\n",
       "             param_grid={'class_weight': ['balanced', 'balanced_subsample',\n",
       "                                          None],\n",
       "                         'criterion': ['gini', 'entropy'],\n",
       "                         'max_features': [1, 2, 3, 4, 5, 6, 'auto'],\n",
       "                         'n_estimators': [50, 95, 100, 110]},\n",
       "             pre_dispatch='2*n_jobs', refit=True, return_train_score=False,\n",
       "             scoring=None, verbose=0)"
      ]
     },
     "execution_count": 68,
     "metadata": {},
     "output_type": "execute_result"
    }
   ],
   "source": [
    "grid_model"
   ]
  },
  {
   "cell_type": "markdown",
   "metadata": {},
   "source": [
    "##### Create Random Forest Model using the best param_ from GridSearch"
   ]
  },
  {
   "cell_type": "code",
   "execution_count": 69,
   "metadata": {},
   "outputs": [
    {
     "data": {
      "text/plain": [
       "RandomForestClassifier(bootstrap=True, ccp_alpha=0.0,\n",
       "                       class_weight='balanced_subsample', criterion='gini',\n",
       "                       max_depth=None, max_features='auto', max_leaf_nodes=None,\n",
       "                       max_samples=None, min_impurity_decrease=0.0,\n",
       "                       min_impurity_split=None, min_samples_leaf=1,\n",
       "                       min_samples_split=2, min_weight_fraction_leaf=0.0,\n",
       "                       n_estimators=110, n_jobs=None, oob_score=False,\n",
       "                       random_state=None, verbose=0, warm_start=False)"
      ]
     },
     "execution_count": 69,
     "metadata": {},
     "output_type": "execute_result"
    }
   ],
   "source": [
    "random_forest_model = RandomForestClassifier(max_features = grid_model.best_params_[\"max_features\"],\\\n",
    "                            n_estimators = grid_model.best_params_[\"n_estimators\"],\\\n",
    "                            criterion = grid_model.best_params_[\"criterion\"],\\\n",
    "                            class_weight = grid_model.best_params_[\"class_weight\"])\n",
    "random_forest_model.fit(X_train, y_train)"
   ]
  },
  {
   "cell_type": "code",
   "execution_count": 70,
   "metadata": {},
   "outputs": [],
   "source": [
    "## Predict y_train for X_train\n",
    "y_pred = random_forest_model.predict(X_test)"
   ]
  },
  {
   "cell_type": "markdown",
   "metadata": {},
   "source": [
    "### Result Metrics\n",
    "<a name=\"result_metrics\"></a>"
   ]
  },
  {
   "cell_type": "code",
   "execution_count": 71,
   "metadata": {},
   "outputs": [
    {
     "data": {
      "text/html": [
       "<div>\n",
       "<style scoped>\n",
       "    .dataframe tbody tr th:only-of-type {\n",
       "        vertical-align: middle;\n",
       "    }\n",
       "\n",
       "    .dataframe tbody tr th {\n",
       "        vertical-align: top;\n",
       "    }\n",
       "\n",
       "    .dataframe thead th {\n",
       "        text-align: right;\n",
       "    }\n",
       "</style>\n",
       "<table border=\"1\" class=\"dataframe\">\n",
       "  <thead>\n",
       "    <tr style=\"text-align: right;\">\n",
       "      <th></th>\n",
       "      <th>Predicted high</th>\n",
       "      <th>Predicted low</th>\n",
       "    </tr>\n",
       "  </thead>\n",
       "  <tbody>\n",
       "    <tr>\n",
       "      <th>is high</th>\n",
       "      <td>320</td>\n",
       "      <td>25</td>\n",
       "    </tr>\n",
       "    <tr>\n",
       "      <th>is low</th>\n",
       "      <td>3</td>\n",
       "      <td>361</td>\n",
       "    </tr>\n",
       "  </tbody>\n",
       "</table>\n",
       "</div>"
      ],
      "text/plain": [
       "         Predicted high  Predicted low\n",
       "is high             320             25\n",
       "is low                3            361"
      ]
     },
     "execution_count": 71,
     "metadata": {},
     "output_type": "execute_result"
    }
   ],
   "source": [
    "# printing confision matrix\n",
    "pd.DataFrame(confusion_matrix(y_test,y_pred),\\\n",
    "            columns=[\"Predicted high\", \"Predicted low\"],\\\n",
    "            index=[\"is high\",\"is low\"] )"
   ]
  },
  {
   "cell_type": "code",
   "execution_count": 72,
   "metadata": {},
   "outputs": [],
   "source": [
    "print (classification_report(y_test, y_pred, labels=random_forest_model.classes_))"
   ]
  },
  {
   "cell_type": "code",
   "execution_count": 73,
   "metadata": {},
   "outputs": [],
   "source": [
    "# Printing accuracy Score\n",
    "print (accuracy_score(y_test, y_pred))"
   ]
  },
  {
   "cell_type": "markdown",
   "metadata": {},
   "source": [
    "### Feature Importance\n",
    "<a name=\"feature_importance\"></a>"
   ]
  },
  {
   "cell_type": "code",
   "execution_count": 74,
   "metadata": {
    "scrolled": true
   },
   "outputs": [
    {
     "data": {
      "text/html": [
       "<div>\n",
       "<style scoped>\n",
       "    .dataframe tbody tr th:only-of-type {\n",
       "        vertical-align: middle;\n",
       "    }\n",
       "\n",
       "    .dataframe tbody tr th {\n",
       "        vertical-align: top;\n",
       "    }\n",
       "\n",
       "    .dataframe thead th {\n",
       "        text-align: right;\n",
       "    }\n",
       "</style>\n",
       "<table border=\"1\" class=\"dataframe\">\n",
       "  <thead>\n",
       "    <tr style=\"text-align: right;\">\n",
       "      <th></th>\n",
       "      <th>importance</th>\n",
       "    </tr>\n",
       "  </thead>\n",
       "  <tbody>\n",
       "    <tr>\n",
       "      <th>runtime</th>\n",
       "      <td>0.096204</td>\n",
       "    </tr>\n",
       "    <tr>\n",
       "      <th>meta_score</th>\n",
       "      <td>0.091236</td>\n",
       "    </tr>\n",
       "    <tr>\n",
       "      <th>other_win</th>\n",
       "      <td>0.088065</td>\n",
       "    </tr>\n",
       "    <tr>\n",
       "      <th>user_review</th>\n",
       "      <td>0.053687</td>\n",
       "    </tr>\n",
       "    <tr>\n",
       "      <th>language_English</th>\n",
       "      <td>0.053065</td>\n",
       "    </tr>\n",
       "    <tr>\n",
       "      <th>votes</th>\n",
       "      <td>0.052834</td>\n",
       "    </tr>\n",
       "    <tr>\n",
       "      <th>critic_review</th>\n",
       "      <td>0.045019</td>\n",
       "    </tr>\n",
       "    <tr>\n",
       "      <th>Documentary</th>\n",
       "      <td>0.040162</td>\n",
       "    </tr>\n",
       "    <tr>\n",
       "      <th>USA</th>\n",
       "      <td>0.035724</td>\n",
       "    </tr>\n",
       "    <tr>\n",
       "      <th>Horror</th>\n",
       "      <td>0.035355</td>\n",
       "    </tr>\n",
       "  </tbody>\n",
       "</table>\n",
       "</div>"
      ],
      "text/plain": [
       "                  importance\n",
       "runtime             0.096204\n",
       "meta_score          0.091236\n",
       "other_win           0.088065\n",
       "user_review         0.053687\n",
       "language_English    0.053065\n",
       "votes               0.052834\n",
       "critic_review       0.045019\n",
       "Documentary         0.040162\n",
       "USA                 0.035724\n",
       "Horror              0.035355"
      ]
     },
     "execution_count": 74,
     "metadata": {},
     "output_type": "execute_result"
    }
   ],
   "source": [
    "# Get features Gini scores\n",
    "feature_importances = pd.DataFrame(random_forest_model.feature_importances_, \n",
    "                                   index = X_train.columns, \n",
    "                                   columns=['importance'])\n",
    "\n",
    "feature_importances[feature_importances['importance']!=0].sort_values(by='importance', ascending=False).head(10)"
   ]
  },
  {
   "cell_type": "markdown",
   "metadata": {},
   "source": [
    "### ROC/AUC CURVE\n",
    "<a name=\"roc_auc_curve\"></a>"
   ]
  },
  {
   "cell_type": "code",
   "execution_count": 75,
   "metadata": {},
   "outputs": [
    {
     "data": {
      "image/png": "[encoded data removed]",
      "text/plain": [
       "<Figure size 792x648 with 1 Axes>"
      ]
     },
     "metadata": {
      "needs_background": "light"
     },
     "output_type": "display_data"
    }
   ],
   "source": [
    "Y_score = grid_model.best_estimator_.predict_proba(X_test)[:,1]\n",
    "\n",
    "\n",
    "# For class 1, find the area under the curve\n",
    "FPR, TPR, _ = roc_curve(y_test, Y_score)\n",
    "ROC_AUC = auc(FPR, TPR)\n",
    "\"\"\"\n",
    "PREC, REC, _ = precision_recall_curve(y_test, Y_score)\n",
    "PR_AUC = auc(REC, PREC)\"\"\"\n",
    "\n",
    "# Plot of a ROC curve for class 1 (has_cancer)\n",
    "plt.figure(figsize=[11,9])\n",
    "plt.plot(FPR, TPR, label='ROC curve (area = %0.2f)' % ROC_AUC, linewidth=4)\n",
    "#plt.plot(REC, PREC, label='PR curve (area = %0.2f)' % PR_AUC, linewidth=4)\n",
    "plt.plot([0, 1], [0, 1], 'k--', linewidth=4)\n",
    "plt.xlim([0.0, 1.0])\n",
    "plt.ylim([0.0, 1.05])\n",
    "plt.xlabel('False Positive', fontsize=18)\n",
    "plt.ylabel('True Positive', fontsize=18)\n",
    "plt.title('Random Forest for imdb rating', fontsize=18)\n",
    "plt.legend(loc=\"lower right\")\n",
    "plt.show()"
   ]
  },
  {
   "cell_type": "code",
   "execution_count": 76,
   "metadata": {},
   "outputs": [
    {
     "data": {
      "image/png": "[encoded data removed]",
      "text/plain": [
       "<Figure size 792x648 with 1 Axes>"
      ]
     },
     "metadata": {
      "needs_background": "light"
     },
     "output_type": "display_data"
    }
   ],
   "source": [
    "Y_score = grid_model.best_estimator_.predict_proba(X_test)[:,1]\n",
    "\n",
    "\n",
    "# For class 1, find the area under the curve\n",
    "PREC, REC, _ = precision_recall_curve(y_test, Y_score)\n",
    "PR_AUC = auc(REC, PREC)\n",
    "\n",
    "# Plot of a ROC curve for class 1 (has_cancer)\n",
    "plt.figure(figsize=[11,9])\n",
    "plt.plot(REC, PREC, label='PR curve (area = %0.2f)' % PR_AUC, linewidth=4)\n",
    "plt.plot([0, 1], [0, 1], 'k--', linewidth=4)\n",
    "plt.xlim([0.0, 1.0])\n",
    "plt.ylim([0.0, 1.05])\n",
    "plt.xlabel('Recall Rate', fontsize=18)\n",
    "plt.ylabel('Precision Rate', fontsize=18)\n",
    "plt.title('Random Forest for imdb rating', fontsize=18)\n",
    "plt.legend(loc=\"lower right\")\n",
    "plt.show()"
   ]
  },
  {
   "cell_type": "markdown",
   "metadata": {},
   "source": [
    "# Wrapping Up\n",
    "<a name=\"wrapping_up\"></a>\n",
    "\n",
    "My model seems to perform too well. One of the reasons could be the way I collected data. I hypothesis is that I was biased while collecting data. The way I web-scraped and collected my data points, there was a huge difference between the two types of data which is unlikely in the real world data problems. This is something to think about for the upcoming projects. \n",
    "\n",
    "### Next..\n",
    "<a name=\"next\"></a>\n",
    "\n",
    "I believe one of the reasons why my model was giving me really good results is because of the way I collected data from the beginning. While web scraping I basically collected two type of movies. First with imdb_rating over 8 and then imdb_rating below 5. Since there is a big gap in the rating, My model was able to predict too well. This is unlikely in the real world. Therefore, my next procedure would be to web scrape again but this time I should have more variety in the rating while scraping since it is my target variable. Also I would like to work with Actors, Director and Writers as a part of NLP for the next trial. \n",
    "\n"
   ]
  }
 ],
 "metadata": {
  "kernelspec": {
   "display_name": "Python 3",
   "language": "python",
   "name": "python3"
  },
  "language_info": {
   "codemirror_mode": {
    "name": "ipython",
    "version": 3
   },
   "file_extension": ".py",
   "mimetype": "text/x-python",
   "name": "python",
   "nbconvert_exporter": "python",
   "pygments_lexer": "ipython3",
   "version": "3.7.6"
  }
 },
 "nbformat": 4,
 "nbformat_minor": 2
}
